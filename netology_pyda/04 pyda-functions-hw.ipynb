{
 "cells": [
  {
   "cell_type": "markdown",
   "metadata": {},
   "source": [
    "## Задание 1"
   ]
  },
  {
   "cell_type": "markdown",
   "metadata": {},
   "source": [
    "Дан список вида:"
   ]
  },
  {
   "cell_type": "markdown",
   "metadata": {},
   "source": [
    "Напишите функцию, которая возвращает сумму элементов на диагонали. Т. е. 13+32+23+35.  \n",
    "Список может быть любой длины, но всегда является \"квадратным\" (количество элементов во вложенных списках равно их количеству)."
   ]
  },
  {
   "cell_type": "code",
   "execution_count": null,
   "metadata": {},
   "outputs": [],
   "source": [
    "data = [\n",
    "    [13, 25, 23, 34],\n",
    "    [45, 32, 44, 47],\n",
    "    [12, 33, 23, 95],\n",
    "    [13, 53, 34, 35]\n",
    "]"
   ]
  },
  {
   "cell_type": "code",
   "execution_count": null,
   "metadata": {},
   "outputs": [],
   "source": [
    "#иттерирование по длине списка (в данном случае, по-моему, нагляднее)\n",
    "def diagonal_sum_1(new_square):\n",
    "    x = 0\n",
    "    for i in range(len(new_square)):\n",
    "        x += data[i][i]\n",
    "    return x  "
   ]
  },
  {
   "cell_type": "code",
   "execution_count": null,
   "metadata": {},
   "outputs": [],
   "source": [
    "# иттерирование по самому списку\n",
    "def diagonal_sum_2(new_square):\n",
    "    x = 0\n",
    "    for i in new_square:\n",
    "        x += i[(new_square.index(i))]\n",
    "    return x"
   ]
  },
  {
   "cell_type": "code",
   "execution_count": null,
   "metadata": {},
   "outputs": [],
   "source": [
    "x = diagonal_sum_1(data)\n",
    "print(x)\n",
    "\n",
    "x = diagonal_sum_2(data)\n",
    "print(x)"
   ]
  },
  {
   "cell_type": "markdown",
   "metadata": {},
   "source": [
    "## Задание 2"
   ]
  },
  {
   "cell_type": "markdown",
   "metadata": {},
   "source": [
    "Напишите функцию, возвращающую сумму первых n чисел Фибоначчи (для этого вам может понадобится ознакомиться с рекурсией)."
   ]
  },
  {
   "cell_type": "code",
   "execution_count": null,
   "metadata": {},
   "outputs": [],
   "source": [
    "def Fibonacci_sum(n):\n",
    "    n = n - 2\n",
    "    Fibonacci_line = [0, 1]\n",
    "    \n",
    "    for i in range(n):\n",
    "        Fibonacci_line += [(Fibonacci_line[-1] + Fibonacci_line[-2])]\n",
    "    return sum(i for i in Fibonacci_line)"
   ]
  },
  {
   "cell_type": "code",
   "execution_count": null,
   "metadata": {},
   "outputs": [],
   "source": [
    "n = int(input())\n",
    "if n % 10 == 1 and n != 11:\n",
    "    print('Сумма первых', n, 'числа Фибоначчи:', Fibonacci_sum(n))\n",
    "else:\n",
    "    print('Сумма первых', n, 'чисел Фибоначчи:', Fibonacci_sum(n))"
   ]
  },
  {
   "cell_type": "markdown",
   "metadata": {},
   "source": [
    "## Задание 3\n"
   ]
  },
  {
   "cell_type": "markdown",
   "metadata": {},
   "source": [
    "Напишите функцию, преобразующую произвольный список вида ['2018-01-01', 'yandex', 'cpc', 100] (он может быть любой длины) в словарь {'2018-01-01': {'yandex': {'cpc': 100}}}"
   ]
  },
  {
   "cell_type": "code",
   "execution_count": null,
   "metadata": {},
   "outputs": [],
   "source": [
    "data_line =  ['2018-01-01', 'yandex', 'cpc', 100]"
   ]
  },
  {
   "cell_type": "code",
   "execution_count": null,
   "metadata": {},
   "outputs": [],
   "source": [
    "def write_to_dict(t_list):\n",
    "    t_list_dict = [{i: 0} for i in t_list]\n",
    "    t_list_dict[-2][t_list[-2]] = t_list[-1]\n",
    "    \n",
    "    n = len(t_list) - 1\n",
    "    while n != 1:\n",
    "        t_list_dict.pop(-1)\n",
    "        t_list.pop(-1)\n",
    "        t_list_dict[-2][t_list[-2]] = t_list_dict[-1]\n",
    "        n -= 1\n",
    "    return t_list_dict[0]"
   ]
  },
  {
   "cell_type": "code",
   "execution_count": null,
   "metadata": {},
   "outputs": [],
   "source": [
    "print(write_to_dict(data_line))"
   ]
  },
  {
   "cell_type": "markdown",
   "metadata": {},
   "source": [
    "## Задание 4"
   ]
  },
  {
   "cell_type": "markdown",
   "metadata": {},
   "source": [
    "Вы работаете секретарем и вам постоянно приходят различные документы. Вы должны быть очень внимательны, чтобы не потерять ни один документ. Каталог документов хранится в следующем виде:"
   ]
  },
  {
   "cell_type": "code",
   "execution_count": 1,
   "metadata": {},
   "outputs": [],
   "source": [
    "documents = [\n",
    "    {'type': 'passport', 'number': '2207 876234', 'name': 'Василий Гупкин'},\n",
    "    {'type': 'invoice', 'number': '11-2', 'name': 'Геннадий Покемонов'},\n",
    "    {'type': 'insurance', 'number': '10006', 'name': 'Аристарх Павлов'}\n",
    "]"
   ]
  },
  {
   "cell_type": "markdown",
   "metadata": {},
   "source": [
    "Перечень полок, на которых находятся документы хранится в следующем виде:"
   ]
  },
  {
   "cell_type": "code",
   "execution_count": 2,
   "metadata": {},
   "outputs": [],
   "source": [
    "directories = {\n",
    "    '1': ['2207 876234', '11-2', '5455 028765'],\n",
    "    '2': ['10006', '5400 028765', '5455 002299'],\n",
    "    '3': []\n",
    "}"
   ]
  },
  {
   "cell_type": "code",
   "execution_count": 3,
   "metadata": {},
   "outputs": [],
   "source": [
    "warninig_doc = 'Такого документа нет в архиве'\n",
    "warninig_doc_old = 'Этот документ уже есть в базе'\n",
    "warninig_shelf = 'Такой полки нет в базе, введите правильный номер или добавьте новую полку в базу'\n",
    "warninig_shelf_old = 'Документ уже на этой полке'"
   ]
  },
  {
   "cell_type": "code",
   "execution_count": 4,
   "metadata": {},
   "outputs": [],
   "source": [
    "def doc_number_is_correct(n):\n",
    "    \n",
    "    \"\"\"\n",
    "    Проверяет есть ли номер документа в базе\n",
    "    \"\"\"\n",
    "    \n",
    "    for value in directories.values():\n",
    "        if n in value:\n",
    "            return True\n",
    "        \n",
    "    return False"
   ]
  },
  {
   "cell_type": "code",
   "execution_count": 5,
   "metadata": {},
   "outputs": [],
   "source": [
    "def shelf_number_is_correct(n):\n",
    "    \n",
    "    \"\"\"\n",
    "    Проверяет есть ли полка в базе\n",
    "    \"\"\"\n",
    "    \n",
    "    for key in directories.keys():\n",
    "        if n in key:\n",
    "            return True\n",
    "    return False"
   ]
  },
  {
   "cell_type": "code",
   "execution_count": 6,
   "metadata": {},
   "outputs": [],
   "source": [
    "def current_shelf_number_of_doc(n):\n",
    "    \n",
    "    \"\"\"\n",
    "    Показывает номер полки, на которой хранится документ\n",
    "    \"\"\"\n",
    "    \n",
    "    for key, value in directories.items():\n",
    "        if n in value:\n",
    "            return key"
   ]
  },
  {
   "cell_type": "code",
   "execution_count": 7,
   "metadata": {},
   "outputs": [],
   "source": [
    "def new_doc_is_really_new(doc_type, doc_name):\n",
    "    \n",
    "    \"\"\"\n",
    "    Проверяет имя и тип нового документа на совпадение со старым\n",
    "    \"\"\"\n",
    "    \n",
    "    for i in documents:\n",
    "        if i['type'] == doc_type and i['name'] == doc_name:\n",
    "            nq = 0\n",
    "            while nq != 1 and nq != 2:\n",
    "                nq = int(input('Такой документ этого человека уже есть в базе. Это точно новый документ? 1 - да, 2 - нет'))\n",
    "                if nq == 2:\n",
    "                    return warninig_doc_old"
   ]
  },
  {
   "cell_type": "code",
   "execution_count": 8,
   "metadata": {},
   "outputs": [],
   "source": [
    "def delete_doc_from_list(del_n):\n",
    "    \n",
    "    \"\"\"\n",
    "    Удаляет документ из перечня\n",
    "    \"\"\"\n",
    "    \n",
    "    for i in documents:\n",
    "        if i['number'] == del_n:\n",
    "            documents.remove(i)"
   ]
  },
  {
   "cell_type": "code",
   "execution_count": 9,
   "metadata": {},
   "outputs": [],
   "source": [
    "def delete_doc_from_shelf(del_n):\n",
    "    \n",
    "    \"\"\"\n",
    "    Удаляет документ с полки\n",
    "    \"\"\"\n",
    "    \n",
    "    for value in directories.values():\n",
    "        if del_n in value:\n",
    "            value.pop(value.index(del_n))"
   ]
  },
  {
   "cell_type": "code",
   "execution_count": 10,
   "metadata": {},
   "outputs": [],
   "source": [
    "def add_doc_to_list(doc_type, doc_number, doc_name):\n",
    "    \n",
    "    \"\"\"\n",
    "    Добавляет документ в перечень\n",
    "    \"\"\"\n",
    "    \n",
    "    new_dict = {}\n",
    "    new_dict['type'] = doc_type\n",
    "    new_dict['number'] = doc_number\n",
    "    new_dict['name'] = doc_name\n",
    "\n",
    "    documents.append(new_dict)"
   ]
  },
  {
   "cell_type": "code",
   "execution_count": 11,
   "metadata": {},
   "outputs": [],
   "source": [
    "def add_doc_on_shelf(doc, new_sh):\n",
    "    \n",
    "    \"\"\"\n",
    "    Добавляет документ на полку\n",
    "    \"\"\"\n",
    "        \n",
    "    directories[new_sh].append(doc)"
   ]
  },
  {
   "cell_type": "code",
   "execution_count": 12,
   "metadata": {},
   "outputs": [],
   "source": [
    "def print_name_on_doc_number():\n",
    "    \n",
    "    \"\"\"\n",
    "    Выводит имя владельца документа по номеру\n",
    "    \"\"\"\n",
    "    \n",
    "    doc_number = input('Введите номер документа: ')\n",
    "    if doc_number_is_correct(doc_number) == False:\n",
    "            return warninig_doc\n",
    "        \n",
    "    for i in documents:\n",
    "        if i['number'] == doc_number:\n",
    "            return i['name']"
   ]
  },
  {
   "cell_type": "code",
   "execution_count": 13,
   "metadata": {},
   "outputs": [],
   "source": [
    "def print_shelf_number_on_doc_number():\n",
    "    \n",
    "    \"\"\"\n",
    "    Выводит номер полки, на которой хранится документ\n",
    "    \"\"\"\n",
    "    \n",
    "    doc_number = input('Введите номер документа: ')\n",
    "    if doc_number_is_correct(doc_number) == False:\n",
    "            return warninig_doc\n",
    "    \n",
    "    for key, value in directories.items():\n",
    "        if doc_number in value:\n",
    "            return key\n",
    "                \n",
    "    return warninig_doc"
   ]
  },
  {
   "cell_type": "code",
   "execution_count": 14,
   "metadata": {},
   "outputs": [],
   "source": [
    "def print_list_all_doc():\n",
    "    \n",
    "    \"\"\"\n",
    "    Выводит все документы в базе\n",
    "    \"\"\"\n",
    "    \n",
    "    for i in documents:\n",
    "        print('\\033[1m', i['type'], ' \"', i['number'], '\" \"', i['name'], '\"', sep='')\n",
    "    \n"
   ]
  },
  {
   "cell_type": "code",
   "execution_count": 15,
   "metadata": {},
   "outputs": [],
   "source": [
    "def add_new_shelf():\n",
    "    \n",
    "    \"\"\"\n",
    "    Добавляет новую полку в базу\n",
    "    \"\"\"\n",
    "    \n",
    "    new_sh = input('Введите номер новой полки: ')\n",
    "    if str.isnumeric(new_sh):\n",
    "        if shelf_number_is_correct(new_sh) == False:\n",
    "            directories[new_sh] = []\n",
    "            print('Полка №', new_sh, ' добавлена', sep='')\n",
    "        else:\n",
    "            print('Эта полка уже в базе')\n",
    "    else:\n",
    "        print('Введите корректный номер, только цифры')"
   ]
  },
  {
   "cell_type": "code",
   "execution_count": 16,
   "metadata": {},
   "outputs": [],
   "source": [
    "def delete_doc_from_database():\n",
    "    \n",
    "    \"\"\"\n",
    "    Удаляет документ из базы\n",
    "    \"\"\"\n",
    "    \n",
    "    del_n = input('Введите номер документа, который нужно удалить: ')\n",
    "    if doc_number_is_correct(del_n) == False:\n",
    "        return warninig_doc\n",
    "    \n",
    "    else:\n",
    "        delete_doc_from_list(del_n)\n",
    "        delete_doc_from_shelf(del_n)\n",
    "        print('Документ № ', del_n, ' удален', sep='')"
   ]
  },
  {
   "cell_type": "code",
   "execution_count": 17,
   "metadata": {},
   "outputs": [],
   "source": [
    "def move_documents_to_new_shelf():\n",
    "    \n",
    "    \"\"\"\n",
    "    Перемещает документ на другую полку\n",
    "    \"\"\"\n",
    "    \n",
    "    \n",
    "    doc_number = input('Введите номер перемещаемого документа: ')\n",
    "    if doc_number_is_correct(doc_number) == False:\n",
    "        return warninig_doc\n",
    "    \n",
    "    new_shelf = input('Введите номер полки: ')\n",
    "    if shelf_number_is_correct(new_shelf) == False:\n",
    "        return warninig_shelf\n",
    "    \n",
    "    if current_shelf_number_of_doc(doc_number) == new_shelf:\n",
    "        return warninig_shelf_old\n",
    "    \n",
    "    delete_doc_from_shelf(doc_number)\n",
    "    add_doc_on_shelf(doc_number, new_shelf)\n",
    "    \n",
    "    print('Документ перемещен на полку №', new_shelf)"
   ]
  },
  {
   "cell_type": "code",
   "execution_count": 18,
   "metadata": {},
   "outputs": [],
   "source": [
    "def add_new_document_to_database():\n",
    "    \n",
    "    \"\"\"\n",
    "    Добавляет новый документ в базу (в перечень и на полку)\n",
    "    \"\"\"\n",
    "    \n",
    "    new_doc_number = input('Введите номер документа: ')\n",
    "    if doc_number_is_correct(new_doc_number) == True:\n",
    "        return warninig_doc_old\n",
    "        \n",
    "    new_doc_type = input('Введите тип документа: ')\n",
    "    new_doc_name = input('Введите имя владельца документа: ')\n",
    "    new_doc_is_really_new(new_doc_type, new_doc_name)\n",
    "    \n",
    "    new_shelf = input('Введите номер полки, на которой будет хранится документ: ')\n",
    "    if shelf_number_is_correct(new_shelf) == False:\n",
    "        return warninig_shelf\n",
    "        \n",
    "    add_doc_to_list(new_doc_type, new_doc_number, new_doc_name)\n",
    "    add_doc_on_shelf(new_doc_number, new_shelf)\n",
    "    print('Документ размещен на полке № ', new_shelf, sep='')\n",
    "   "
   ]
  },
  {
   "cell_type": "code",
   "execution_count": 29,
   "metadata": {},
   "outputs": [],
   "source": [
    "def command_input():\n",
    "    \n",
    "    \"\"\"\n",
    "    Обрабатывает и передает команду в main\n",
    "    \"\"\"\n",
    "    \n",
    "    command = input('Введите команду: ')\n",
    "    \n",
    "    command_list = {\n",
    "        'p': print_name_on_doc_number,\n",
    "        's': print_shelf_number_on_doc_number,\n",
    "        'l': print_list_all_doc,\n",
    "        'as': add_new_shelf,\n",
    "        'd': delete_doc_from_database,\n",
    "        'm': move_documents_to_new_shelf,\n",
    "        'a': add_new_document_to_database\n",
    "    }\n",
    "    \n",
    "    if command not in command_list.keys():\n",
    "        while command not in command_list.keys():\n",
    "            print('Такой команды не существует',\n",
    "                  'Введите команду из списка:',\n",
    "                  'p – вывести имя по номеру;',\n",
    "                  's – вывести номер полки, на которой хранится документ;',\n",
    "                  'l – список всех документов;',\n",
    "                  'as – добавить новую полку;',\n",
    "                  'd – удалить документ из базы;',\n",
    "                  'm – переместить документ на другую полку;',\n",
    "                  'a – добавить новый документ в базу.', sep='\\n' )\n",
    "            command = input('')\n",
    "    global main    \n",
    "    main = command_list[command]"
   ]
  },
  {
   "cell_type": "code",
   "execution_count": null,
   "metadata": {},
   "outputs": [],
   "source": [
    "command_input()\n",
    "main()"
   ]
  },
  {
   "cell_type": "code",
   "execution_count": null,
   "metadata": {},
   "outputs": [],
   "source": [
    "#Перечень и полки\n",
    "print('Перечень документов:')\n",
    "for i in documents:\n",
    "    print(i)\n",
    "print()\n",
    "print('Распределение документов на полках:')\n",
    "for x, y in directories.items():\n",
    "    print(x, y)"
   ]
  },
  {
   "cell_type": "markdown",
   "metadata": {},
   "source": [
    "Необходимо реализовать пользовательские команды (внимание! это не название функций, которые должны быть выразительными, а команды, которые вводит пользователь, чтобы получить необходимый результат):\n",
    "  \n",
    "- p – people – команда, которая спросит номер документа и выведет имя человека, которому он принадлежит;  \n",
    "- s – shelf – команда, которая спросит номер документа и выведет номер полки, на которой он находится  \n",
    "Правильно обработайте ситуацию, когда пользователь будет вводить несуществующий документ.\n",
    "- l – list – команда, которая выведет список всех документов в формате   \n",
    "**passport \"2207 876234\" \"Василий Гупкин\"**  \n",
    "- as – add shelf – команда, которая спросит номер новой полки и добавит ее в перечень\n",
    "- d – delete – команда, которая спросит номер документа и удалит его из каталога и из перечня полок. Предусмотрите сценарий, когда пользователь вводит несуществующий документ;  \n",
    "- m – move – команда, которая спросит номер документа и целевую полку и переместит его с текущей полки на целевую. Корректно обработайте кейсы, когда пользователь пытается переместить несуществующий документ или переместить документ на несуществующую полку;  \n",
    "- a – add – команда, которая добавит новый документ в каталог и в перечень полок, спросив его номер, тип, имя владельца и номер полки, на котором он будет храниться."
   ]
  },
  {
   "cell_type": "code",
   "execution_count": null,
   "metadata": {},
   "outputs": [],
   "source": []
  }
 ],
 "metadata": {
  "kernelspec": {
   "display_name": "Python 3",
   "language": "python",
   "name": "python3"
  },
  "language_info": {
   "codemirror_mode": {
    "name": "ipython",
    "version": 3
   },
   "file_extension": ".py",
   "mimetype": "text/x-python",
   "name": "python",
   "nbconvert_exporter": "python",
   "pygments_lexer": "ipython3",
   "version": "3.7.4"
  }
 },
 "nbformat": 4,
 "nbformat_minor": 2
}
