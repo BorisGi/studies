{
 "cells": [
  {
   "cell_type": "markdown",
   "metadata": {},
   "source": [
    "## Задача 1 ##\n",
    "Дана строка\n",
    "string_01 = “Mama, just killed a man, put a gun against his head,\n",
    "pulled my trigger, now he's dead. Mama, life had just begun, but\n",
    "now I've gone and thrown it all away. Mama, ooh (any way the wind\n",
    "blows), didn't mean to make you cry. If I'm not back again this\n",
    "time tomorrow carry on, carry on as if nothing really matters.”\n",
    "1. Посчитайте, сколько в строке символов (исключая пробелы).\n",
    "2. Посчитайте, сколько в строке слов.\n",
    "3. Напишите функцию, которая будет принимать в качестве аргумента букву и\n",
    "выводить все слова из строки, заканчивающиеся на эту букву (например, “s”).\n",
    "4. Не обязательно: Напишите функцию, которая будет принимать в качестве\n",
    "аргумента букву и выводить все слова из строки, начинающиеся на эту букву\n",
    "(например, “m”)."
   ]
  },
  {
   "cell_type": "code",
   "execution_count": 51,
   "metadata": {},
   "outputs": [],
   "source": [
    "string_01 = \"Mama, just killed a man, put a gun against his head, pulled my trigger, now he's dead. Mama, life had just begun, but now I've gone and thrown it all away. Mama, ooh (any way the wind blows), didn't mean to make you cry. If I'm not back again this time tomorrow carry on, carry on as if nothing really matters\""
   ]
  },
  {
   "cell_type": "code",
   "execution_count": 52,
   "metadata": {},
   "outputs": [
    {
     "name": "stdout",
     "output_type": "stream",
     "text": [
      "249\n"
     ]
    }
   ],
   "source": [
    "#Посчитайте, сколько в строке символов (исключая пробелы).\n",
    "\n",
    "print(len(string_01.replace(' ','')))"
   ]
  },
  {
   "cell_type": "code",
   "execution_count": 59,
   "metadata": {},
   "outputs": [
    {
     "name": "stdout",
     "output_type": "stream",
     "text": [
      "61\n"
     ]
    }
   ],
   "source": [
    "#2. Посчитайте, сколько в строке слов.\n",
    "print(len(string_01.split(' ')))"
   ]
  },
  {
   "cell_type": "code",
   "execution_count": 58,
   "metadata": {},
   "outputs": [
    {
     "name": "stdout",
     "output_type": "stream",
     "text": [
      "['Mama', 'just', 'killed', 'a', 'man', 'put', 'a', 'gun', 'against', 'his', 'head', 'pulled', 'my', 'trigger', 'now', \"he's\", 'dead', 'Mama', 'life', 'had', 'just', 'begun', 'but', 'now', \"I've\", 'gone', 'and', 'thrown', 'it', 'all', 'away', 'Mama', 'ooh', 'any', 'way', 'the', 'wind', 'blows', \"didn't\", 'mean', 'to', 'make', 'you', 'cry', 'If', \"I'm\", 'not', 'back', 'again', 'this', 'time', 'tomorrow', 'carry', 'on', 'carry', 'on', 'as', 'if', 'nothing', 'really', 'matters']\n"
     ]
    }
   ],
   "source": [
    "#2. Посчитайте, сколько в строке слов.\n",
    "text_list = string_01.replace(',', '').replace('(', '').replace(')', '').replace('.', '').split(' ')\n",
    "print(text_list)"
   ]
  },
  {
   "cell_type": "code",
   "execution_count": 32,
   "metadata": {},
   "outputs": [],
   "source": [
    "#Напишите функцию, которая будет принимать в качестве аргумента букву и выводить\n",
    "#все слова из строки, #заканчивающиеся на эту букву (например, “s”).\n",
    "\n",
    "def last_gramma():\n",
    "    n_gramma = input('Введите букву: ')\n",
    "\n",
    "    text_list = string_01.replace(',', '').replace('(', '').replace(')', '').split(' ')\n",
    "\n",
    "    for word in text_list:\n",
    "        if word[-1] == n_gramma:\n",
    "            print(word)\n"
   ]
  },
  {
   "cell_type": "code",
   "execution_count": 34,
   "metadata": {},
   "outputs": [
    {
     "name": "stdout",
     "output_type": "stream",
     "text": [
      "Введите букву: t\n",
      "just\n",
      "put\n",
      "against\n",
      "just\n",
      "but\n",
      "it\n",
      "didn't\n",
      "not\n"
     ]
    }
   ],
   "source": [
    "last_gramma()"
   ]
  },
  {
   "cell_type": "code",
   "execution_count": 70,
   "metadata": {},
   "outputs": [],
   "source": [
    "# 4.Напишите функцию, которая будет принимать в качестве аргумента букву и\n",
    "#выводить все слова из строки, начинающиеся на эту букву (например, “m”).\n",
    "\n",
    "def first_gramma():\n",
    "    n_gramma = input('Введите букву: ').lower()\n",
    "    \n",
    "    text_list = string_01.replace(',', '').lower().replace('(', '').replace(')', '').split(' ')\n",
    "\n",
    "    for word in text_list:\n",
    "        if word[0] == n_gramma:\n",
    "            print(word)"
   ]
  },
  {
   "cell_type": "code",
   "execution_count": 55,
   "metadata": {},
   "outputs": [
    {
     "name": "stdout",
     "output_type": "stream",
     "text": [
      "Введите букву: m\n",
      "mama\n",
      "man\n",
      "my\n",
      "mama\n",
      "mama\n",
      "mean\n",
      "make\n",
      "matters\n"
     ]
    }
   ],
   "source": [
    "first_gramma()"
   ]
  },
  {
   "cell_type": "code",
   "execution_count": null,
   "metadata": {},
   "outputs": [],
   "source": []
  },
  {
   "cell_type": "code",
   "execution_count": 65,
   "metadata": {},
   "outputs": [],
   "source": [
    "#решение через регулярку, более эргономичное\n",
    "import re"
   ]
  },
  {
   "cell_type": "code",
   "execution_count": 66,
   "metadata": {},
   "outputs": [],
   "source": [
    "string_02 = re.sub('[^\\w\\s\\']', '', string_01)"
   ]
  },
  {
   "cell_type": "code",
   "execution_count": 67,
   "metadata": {},
   "outputs": [
    {
     "name": "stdout",
     "output_type": "stream",
     "text": [
      "Mama just killed a man put a gun against his head pulled my trigger now he's dead Mama life had just begun but now I've gone and thrown it all away Mama ooh any way the wind blows didn't mean to make you cry If I'm not back again this time tomorrow carry on carry on as if nothing really matters\n"
     ]
    }
   ],
   "source": [
    "print(string_02)"
   ]
  },
  {
   "cell_type": "code",
   "execution_count": 68,
   "metadata": {},
   "outputs": [],
   "source": [
    "def find_words_end_with(letter):\n",
    "    string_to_list = string_02.split(' ')\n",
    "    \n",
    "    for word in string_to_list:\n",
    "        if word.endswith(letter):\n",
    "            print(word)"
   ]
  },
  {
   "cell_type": "code",
   "execution_count": 93,
   "metadata": {},
   "outputs": [],
   "source": [
    "def find_words_starts_with(letter):\n",
    "    string_to_list = string_02.split(' ')\n",
    "    \n",
    "    for word in string_to_list:\n",
    "        if word.startswith(letter.lower()) or word.startswith(letter.upper()):\n",
    "            print(word)"
   ]
  },
  {
   "cell_type": "code",
   "execution_count": 91,
   "metadata": {},
   "outputs": [
    {
     "name": "stdout",
     "output_type": "stream",
     "text": [
      "killed\n",
      "head\n",
      "pulled\n",
      "dead\n",
      "had\n",
      "and\n",
      "wind\n"
     ]
    }
   ],
   "source": [
    "find_words_end_with('d')"
   ]
  },
  {
   "cell_type": "code",
   "execution_count": 94,
   "metadata": {},
   "outputs": [
    {
     "name": "stdout",
     "output_type": "stream",
     "text": [
      "Mama\n",
      "man\n",
      "my\n",
      "Mama\n",
      "Mama\n",
      "mean\n",
      "make\n",
      "matters\n"
     ]
    }
   ],
   "source": [
    "find_words_starts_with('m')"
   ]
  },
  {
   "cell_type": "code",
   "execution_count": null,
   "metadata": {},
   "outputs": [],
   "source": []
  },
  {
   "cell_type": "markdown",
   "metadata": {},
   "source": [
    "## Задача 2 ##\n",
    "Напишите код, который будет генерировать случайную последовательность из 6\n",
    "цифр, одна из которых должна быть 3. Позиция цифры 3 должна\n",
    "определяться случайным образом. Результат должен быть строкой. Например:\n",
    "\"456309\" или \"330127\"."
   ]
  },
  {
   "cell_type": "code",
   "execution_count": 95,
   "metadata": {},
   "outputs": [],
   "source": [
    "import random"
   ]
  },
  {
   "cell_type": "code",
   "execution_count": 99,
   "metadata": {},
   "outputs": [
    {
     "name": "stdout",
     "output_type": "stream",
     "text": [
      "713141\n"
     ]
    }
   ],
   "source": [
    "number = ''\n",
    "while '3' not in number:\n",
    "    number = ''.join([str(random.randint(0,9)) for i in range(6)])\n",
    "\n",
    "print(number)"
   ]
  },
  {
   "cell_type": "markdown",
   "metadata": {},
   "source": [
    "## Задача 3 ##\n",
    "list_01 = [1, 1, 2, 3, 5, 8, 13, 21, 34, 55, 89, 144, 233, 377, 610]\n",
    "\n",
    "Напишите алгоритм, который выводит сумму элементов списка, которые больше 10, но меньше 100."
   ]
  },
  {
   "cell_type": "code",
   "execution_count": 100,
   "metadata": {},
   "outputs": [],
   "source": [
    "list_01 = [1, 1, 2, 3, 5, 8, 13, 21, 34, 55, 89, 144, 233, 377, 610]"
   ]
  },
  {
   "cell_type": "code",
   "execution_count": 101,
   "metadata": {},
   "outputs": [
    {
     "name": "stdout",
     "output_type": "stream",
     "text": [
      "212\n"
     ]
    }
   ],
   "source": [
    "sum_list = 0\n",
    "for i in list_01:\n",
    "    if 10 < i < 100:\n",
    "        sum_list += i\n",
    "        \n",
    "print(sum_list)"
   ]
  },
  {
   "cell_type": "code",
   "execution_count": 102,
   "metadata": {},
   "outputs": [
    {
     "data": {
      "text/plain": [
       "212"
      ]
     },
     "execution_count": 102,
     "metadata": {},
     "output_type": "execute_result"
    }
   ],
   "source": [
    "sum([el for el in list_01 if 10 < el < 100])"
   ]
  },
  {
   "cell_type": "code",
   "execution_count": null,
   "metadata": {},
   "outputs": [],
   "source": []
  },
  {
   "cell_type": "markdown",
   "metadata": {},
   "source": [
    "## Задача 4 ##\n",
    "Данные студентов представлены в виде списка списков:\n",
    "\n",
    "1. Преобразуйте данные таким образом, чтобы они были представлены в виде\n",
    "словаря, в котором ключами являются номера студентов, а значениями —\n",
    "список из других данных о студентах.\n",
    "2. Напишите функцию, которая принимает в качестве аргумента номер студента и\n",
    "новый номер группы и позволяет изменить номер группы этого студента на\n",
    "новый.\n",
    "3. Напишите функцию, которая принимает номер группы и выводит список\n",
    "(фамилии, имена, отчества) всех студентов этой группы."
   ]
  },
  {
   "cell_type": "code",
   "execution_count": 1,
   "metadata": {},
   "outputs": [],
   "source": [
    "students = [\n",
    "[\"0001\", \"Антонов\", \"Антон\", \"Игоревич\", \"20.08.2009\",\n",
    "\"БСТ161\"],\n",
    "[\"1102\", \"Богов\", \"Артем\", \"Игоревич\", \"25.01.2010\",\n",
    "\"БСТ162\"],[\"0333\", \"Глаголева\", \"Анастасия\", \"Николаевна\",\n",
    "\"11.07.2009\", \"БСТ163\"],\n",
    "[\"4004\", \"Степанова\", \"Наталья\", \"Александровна\",\n",
    "\"13.02.2008\", \"БСТ161\"],\n",
    "[\"0045\", \"Боков\", \"Игорь\", \"Харитонович\", \"02.06.2009\",\n",
    "\"БСТ161\"],\n",
    "[\"0096\", \"Васильков\", \"Валентин\", \"Сергеевич\", \"20.03.2009\",\n",
    "\"БСТ164\"],\n",
    "[\"0607\", \"Сиропова\", \"Виолетта\", \"Эдуардовна\", \"28.05.2010\",\n",
    "\"БСТ162\"],\n",
    "[\"0309\", \"Шафутинский\", \"Михаил\", \"Михайлович\",\n",
    "\"03.09.2007\", \"БСТ163\"]\n",
    "]"
   ]
  },
  {
   "cell_type": "code",
   "execution_count": 2,
   "metadata": {},
   "outputs": [
    {
     "name": "stdout",
     "output_type": "stream",
     "text": [
      "{'0001': ['Антонов', 'Антон', 'Игоревич', '20.08.2009', 'БСТ161'], '1102': ['Богов', 'Артем', 'Игоревич', '25.01.2010', 'БСТ162'], '0333': ['Глаголева', 'Анастасия', 'Николаевна', '11.07.2009', 'БСТ163'], '4004': ['Степанова', 'Наталья', 'Александровна', '13.02.2008', 'БСТ161'], '0045': ['Боков', 'Игорь', 'Харитонович', '02.06.2009', 'БСТ161'], '0096': ['Васильков', 'Валентин', 'Сергеевич', '20.03.2009', 'БСТ164'], '0607': ['Сиропова', 'Виолетта', 'Эдуардовна', '28.05.2010', 'БСТ162'], '0309': ['Шафутинский', 'Михаил', 'Михайлович', '03.09.2007', 'БСТ163']}\n"
     ]
    }
   ],
   "source": [
    "#1. Преобразуйте данные таким образом, чтобы они были представлены в виде словаря,\n",
    "#в котором ключами являются номера студентов, а значениями — \n",
    "#список из других данных о студентах.\n",
    "\n",
    "student_info = {}\n",
    "\n",
    "for i in students:\n",
    "    student_info[i[0]] = i[1:]\n",
    "    \n",
    "print(student_info)"
   ]
  },
  {
   "cell_type": "code",
   "execution_count": 126,
   "metadata": {},
   "outputs": [],
   "source": [
    "#2. Напишите функцию, которая принимает в качестве аргумента номер студента и новый номер группы\n",
    "#и позволяет изменить номер группы этого студента на новый.\n",
    "\n",
    "def change_group():\n",
    "\n",
    "    n_student = '0000'\n",
    "\n",
    "    while n_student not in student_info.keys():\n",
    "        if n_student == 'stop':\n",
    "            break\n",
    "\n",
    "        else:\n",
    "            n_student = input('Введите номер студента, либо команду stop: ')\n",
    "\n",
    "\n",
    "    new_group = 'БСТ'\n",
    "    new_group_number = 1\n",
    "\n",
    "    while new_group_number < 99 or new_group_number > 1000:\n",
    "        if new_group_number == 0:\n",
    "            break\n",
    "\n",
    "        else:\n",
    "            new_group_number = int(input('Введите номер новой группы, только 3 цифры. Чтобы отказаться от ввода, введите \"0\": '))\n",
    "\n",
    "    new_group += str(new_group_number)\n",
    "\n",
    "    for i in student_info[n_student]:\n",
    "        if new_group[0:4] in i:\n",
    "            student_info[n_student].remove(i)\n",
    "            student_info[n_student].append(new_group)"
   ]
  },
  {
   "cell_type": "code",
   "execution_count": 127,
   "metadata": {},
   "outputs": [
    {
     "name": "stdout",
     "output_type": "stream",
     "text": [
      "Введите номер студента, либо команду stop: 0309\n",
      "Введите номер новой группы, только 3 цифры. Чтобы отказаться от ввода, введите \"0\": 123\n",
      "('0001', ['Антонов', 'Антон', 'Игоревич', '20.08.2009', 'БСТ161'])\n",
      "('1102', ['Богов', 'Артем', 'Игоревич', '25.01.2010', 'БСТ162'])\n",
      "('0333', ['Глаголева', 'Анастасия', 'Николаевна', '11.07.2009', 'БСТ163'])\n",
      "('4004', ['Степанова', 'Наталья', 'Александровна', '13.02.2008', 'БСТ161'])\n",
      "('0045', ['Боков', 'Игорь', 'Харитонович', '02.06.2009', 'БСТ161'])\n",
      "('0096', ['Васильков', 'Валентин', 'Сергеевич', '20.03.2009', 'БСТ164'])\n",
      "('0607', ['Сиропова', 'Виолетта', 'Эдуардовна', '28.05.2010', 'БСТ162'])\n",
      "('0309', ['Шафутинский', 'Михаил', 'Михайлович', '03.09.2007', 'БСТ123'])\n"
     ]
    }
   ],
   "source": [
    "change_group()\n",
    "for i in student_info.items():\n",
    "    print(i)"
   ]
  },
  {
   "cell_type": "code",
   "execution_count": 5,
   "metadata": {},
   "outputs": [
    {
     "name": "stdout",
     "output_type": "stream",
     "text": [
      "Введите номер группы: БСТ162\n",
      "Богов Артем Игоревич\n",
      "Сиропова Виолетта Эдуардовна\n"
     ]
    }
   ],
   "source": [
    "#3. Напишите функцию, которая принимает номер группы и выводит список (фамилии, имена, отчества) всех студентов этой группы\n",
    "\n",
    "n_group = input('Введите номер группы: ')\n",
    "count = 0\n",
    "\n",
    "for i in student_info.values():\n",
    "    if n_group in i:\n",
    "        print(i[0], i[1], i[2], sep=' ')\n",
    "        count += 1\n",
    "        \n",
    "if count == 0:\n",
    "    print('Такой группы нет в потоке')\n",
    "        \n",
    "    "
   ]
  },
  {
   "cell_type": "code",
   "execution_count": null,
   "metadata": {},
   "outputs": [],
   "source": []
  },
  {
   "cell_type": "code",
   "execution_count": 103,
   "metadata": {},
   "outputs": [],
   "source": [
    "#2 Напишите функцию, которая принимает в качестве аргумента номер студента и\n",
    "#новый номер группы и позволяет изменить номер группы этого студента на новый\n",
    "\n",
    "def change_group(student_number, new_group):\n",
    "    student_info[student_number][4] = new_group"
   ]
  },
  {
   "cell_type": "code",
   "execution_count": 105,
   "metadata": {},
   "outputs": [],
   "source": [
    "change_group('1102', 'БСТ161')"
   ]
  },
  {
   "cell_type": "code",
   "execution_count": 111,
   "metadata": {},
   "outputs": [],
   "source": [
    "#3. Напишите функцию, которая принимает номер группы и выводит список\n",
    "#(фамилии, имена, отчества) всех студентов этой группы.\n",
    "\n",
    "def print_student(group):\n",
    "    for student in student_info.values():\n",
    "        if student[-1] == group:\n",
    "            print(student[0], student[1], student[2], sep=' ') "
   ]
  },
  {
   "cell_type": "code",
   "execution_count": 112,
   "metadata": {},
   "outputs": [
    {
     "name": "stdout",
     "output_type": "stream",
     "text": [
      "Сиропова Виолетта Эдуардовна\n"
     ]
    }
   ],
   "source": [
    "print_student('БСТ162')"
   ]
  },
  {
   "cell_type": "code",
   "execution_count": null,
   "metadata": {},
   "outputs": [],
   "source": []
  },
  {
   "cell_type": "markdown",
   "metadata": {},
   "source": [
    "## Задача 5 ##\n",
    "Дана матрица:\n",
    "matrix = [\n",
    "[0, 1, 2, 4, 8],\n",
    "[6, 2, 2, 1, 9],\n",
    "[3, 3, 3, 3, 3],\n",
    "[4, 6, 7, 1, 2],\n",
    "[5, 7, 3, 4, 0]\n",
    "]\n",
    "1. Выведите результат сложения всех элементов матрицы.\n",
    "2. Напишите алгоритм вычисления максимума из сумм элементов каждого\n",
    "столбца."
   ]
  },
  {
   "cell_type": "code",
   "execution_count": 120,
   "metadata": {},
   "outputs": [],
   "source": [
    "matrix = [\n",
    "[0, 1, 2, 4, 8],\n",
    "[6, 2, 2, 1, 9],\n",
    "[3, 3, 3, 3, 3],\n",
    "[4, 6, 7, 1, 2],\n",
    "[5, 7, 3, 4, 0]\n",
    "]"
   ]
  },
  {
   "cell_type": "code",
   "execution_count": 121,
   "metadata": {},
   "outputs": [
    {
     "name": "stdout",
     "output_type": "stream",
     "text": [
      "Сумма всех чисел матрицы: 89\n"
     ]
    }
   ],
   "source": [
    "#1. Выведите результат сложения всех элементов матрицы.\n",
    "\n",
    "sum_all_numbers = 0\n",
    "\n",
    "for i in matrix:\n",
    "    for j in i:\n",
    "        sum_all_numbers += j\n",
    "        \n",
    "print('Сумма всех чисел матрицы: ', sum_all_numbers, sep='')"
   ]
  },
  {
   "cell_type": "code",
   "execution_count": 49,
   "metadata": {},
   "outputs": [],
   "source": [
    "#2. Напишите алгоритм вычисления максимума из сумм элементов каждого столбца.\n",
    "sum_colums = [0] * len(matrix)\n",
    "\n",
    "for i in matrix:\n",
    "    for j in range(len(i)):\n",
    "        sum_p = i[j] + sum_colums[j]\n",
    "        sum_colums.insert(j, sum_p)"
   ]
  },
  {
   "cell_type": "code",
   "execution_count": 50,
   "metadata": {},
   "outputs": [
    {
     "name": "stdout",
     "output_type": "stream",
     "text": [
      "[18, 20, 16, 17, 13, 13, 15, 16, 10, 11, 9, 9, 9, 9, 9, 6, 2, 2, 1, 9, 0, 1, 2, 4, 8, 0, 0, 0, 0, 0]\n"
     ]
    }
   ],
   "source": [
    "print(sum_colums)"
   ]
  },
  {
   "cell_type": "code",
   "execution_count": null,
   "metadata": {},
   "outputs": [],
   "source": []
  },
  {
   "cell_type": "code",
   "execution_count": 127,
   "metadata": {},
   "outputs": [
    {
     "name": "stdout",
     "output_type": "stream",
     "text": [
      "89\n"
     ]
    }
   ],
   "source": [
    "print(sum([sum(item) for item in matrix]))"
   ]
  },
  {
   "cell_type": "code",
   "execution_count": 128,
   "metadata": {},
   "outputs": [
    {
     "data": {
      "text/plain": [
       "22"
      ]
     },
     "execution_count": 128,
     "metadata": {},
     "output_type": "execute_result"
    }
   ],
   "source": [
    "max([sum(col) for col in zip(*matrix)])"
   ]
  },
  {
   "cell_type": "code",
   "execution_count": null,
   "metadata": {},
   "outputs": [],
   "source": []
  },
  {
   "cell_type": "code",
   "execution_count": null,
   "metadata": {},
   "outputs": [],
   "source": []
  },
  {
   "cell_type": "code",
   "execution_count": 122,
   "metadata": {},
   "outputs": [],
   "source": [
    "#с помощью numpy\n",
    "\n",
    "import numpy as np"
   ]
  },
  {
   "cell_type": "code",
   "execution_count": 123,
   "metadata": {},
   "outputs": [],
   "source": [
    "matrix = [\n",
    "[0, 1, 2, 4, 8],\n",
    "[6, 2, 2, 1, 9],\n",
    "[3, 3, 3, 3, 3],\n",
    "[4, 6, 7, 1, 2],\n",
    "[5, 7, 3, 4, 0]\n",
    "]"
   ]
  },
  {
   "cell_type": "code",
   "execution_count": 124,
   "metadata": {},
   "outputs": [
    {
     "name": "stdout",
     "output_type": "stream",
     "text": [
      "89\n"
     ]
    }
   ],
   "source": [
    "print(np.sum(matrix))"
   ]
  },
  {
   "cell_type": "code",
   "execution_count": null,
   "metadata": {},
   "outputs": [],
   "source": [
    "print(np.sum(matrix))"
   ]
  },
  {
   "cell_type": "code",
   "execution_count": null,
   "metadata": {},
   "outputs": [],
   "source": []
  },
  {
   "cell_type": "code",
   "execution_count": null,
   "metadata": {},
   "outputs": [],
   "source": []
  }
 ],
 "metadata": {
  "kernelspec": {
   "display_name": "Python 3",
   "language": "python",
   "name": "python3"
  },
  "language_info": {
   "codemirror_mode": {
    "name": "ipython",
    "version": 3
   },
   "file_extension": ".py",
   "mimetype": "text/x-python",
   "name": "python",
   "nbconvert_exporter": "python",
   "pygments_lexer": "ipython3",
   "version": "3.7.4"
  }
 },
 "nbformat": 4,
 "nbformat_minor": 2
}
