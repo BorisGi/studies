{
 "cells": [
  {
   "cell_type": "markdown",
   "metadata": {},
   "source": [
    "**Задание 1**. Даны 2 строки: *long_phrase* и *short_phrase*. \n",
    "Напишите код, который проверяет действительно ли длинная фраза *long_phrase* длиннее короткой *short_phrase*. И выводит *True* или *False* в зависимости от результата сравнения."
   ]
  },
  {
   "cell_type": "code",
   "execution_count": 29,
   "metadata": {},
   "outputs": [],
   "source": [
    "long_phrase = 'Насколько проще было бы писать программы, если бы не заказчики'\n",
    "short_phrase = '640Кб должно хватить для любых задач. Билл Гейтс (по легенде)'"
   ]
  },
  {
   "cell_type": "code",
   "execution_count": null,
   "metadata": {},
   "outputs": [],
   "source": [
    "print(len(long_phrase) > len(short_phrase))"
   ]
  },
  {
   "cell_type": "markdown",
   "metadata": {},
   "source": [
    "**Задание 2**. Дано значение объема файла в байтах. Напишите перевод этого значения в мегабайты в формате: \"*Объем файла равен 213.68Mb*\""
   ]
  },
  {
   "cell_type": "code",
   "execution_count": null,
   "metadata": {},
   "outputs": [],
   "source": [
    "print('Объем файла равен ', int(input()) / 1048576, 'Mb', sep='')"
   ]
  },
  {
   "cell_type": "markdown",
   "metadata": {},
   "source": [
    "**Задание 3**. Разработать приложение для определения знака зодиака по дате рождения. Пример:\n",
    "\n",
    "Введите месяц: март\n",
    "\n",
    "Введите число: 6\n",
    "\n",
    "Вывод:\n",
    "Рыбы"
   ]
  },
  {
   "cell_type": "code",
   "execution_count": null,
   "metadata": {},
   "outputs": [],
   "source": [
    "\"\"\"\n",
    "Знак рассчитывается по астрономическим данным\n",
    "https://ru.wikipedia.org/wiki/Знаки_зодиака#Солнце_в_знаках_зодиака\n",
    "\"\"\"\n",
    "\n",
    "month_of_birth = input('Введите месяц: ')\n",
    "day_of_birth = int(input('Введите число: '))\n",
    "date_code = -1000\n",
    "if 1 <= day_of_birth <= 31:\n",
    "    \n",
    "    if month_of_birth == 'январь' or month_of_birth == 'Январь':\n",
    "        date_code = 0\n",
    "    \n",
    "    elif month_of_birth == 'февраль' or month_of_birth == 'Февраль':\n",
    "        if not day_of_birth > 29:\n",
    "            date_code = 31\n",
    "            \n",
    "    elif month_of_birth == 'март' or month_of_birth == 'Март':\n",
    "        date_code = 60\n",
    "    \n",
    "    elif month_of_birth == 'апрель' or month_of_birth == 'Апрель':\n",
    "        if not day_of_birth > 30:\n",
    "            date_code = 91\n",
    "    \n",
    "    elif month_of_birth == 'май' or month_of_birth == 'Май':\n",
    "        date_code = 121\n",
    "    \n",
    "    elif month_of_birth == 'июнь' or month_of_birth == 'Июнь':\n",
    "        if not day_of_birth > 30:\n",
    "            date_code = 152\n",
    "\n",
    "    elif month_of_birth == 'июль' or month_of_birth == 'Июль':\n",
    "        date_code = 182\n",
    "    \n",
    "    elif month_of_birth == 'август' or month_of_birth == 'Август':\n",
    "        date_code = 213\n",
    "\n",
    "    elif month_of_birth == 'сентябрь' or month_of_birth == 'Сентябрь':\n",
    "        if not day_of_birth > 30:\n",
    "            date_code = 244\n",
    "    \n",
    "    elif month_of_birth == 'октябрь' or month_of_birth == 'Октябрь':\n",
    "        date_code = 274\n",
    "    \n",
    "    elif month_of_birth == 'ноябрь' or month_of_birth == 'Ноябрь':\n",
    "        if not day_of_birth > 30:\n",
    "            date_code = 305\n",
    "    \n",
    "    elif month_of_birth == 'декабрь' or month_of_birth == 'Декабрь':\n",
    "        date_code = 335\n",
    "            \n",
    "    if not date_code < 0:\n",
    "        date_code += day_of_birth\n",
    "    \n",
    "        if 1 <= date_code <= 18:\n",
    "            print('Стрелец')\n",
    "    \n",
    "        elif 19 <= date_code <= 46:\n",
    "            print('Козерог')\n",
    "                    \n",
    "        elif 47 <= date_code <= 71:\n",
    "            print('Водолей')\n",
    "              \n",
    "        elif 72 <= date_code <= 109:\n",
    "            print('Рыбы')\n",
    "              \n",
    "        elif 110 <= date_code <= 134:\n",
    "            print('Овен')\n",
    "        \n",
    "        elif 135 <= date_code <= 171:\n",
    "            print('Телец')\n",
    "        \n",
    "        elif 172 <= date_code <= 202:\n",
    "            print('Близнецы')\n",
    "        \n",
    "        elif 203 <= date_code <= 222:\n",
    "            print('Рак')\n",
    "        \n",
    "        elif 223 <= date_code <= 259:\n",
    "            print('Лев')\n",
    "        \n",
    "        elif 260 <= date_code <= 304:\n",
    "            print('Дева')\n",
    "        \n",
    "        elif 305 <= date_code <= 327:\n",
    "            print('Весы')\n",
    "        \n",
    "        elif 328 <= date_code <= 334:\n",
    "            print('Скорпион')\n",
    "        \n",
    "        elif 335 <= date_code <= 352:\n",
    "            print('Змееносец')\n",
    "        \n",
    "        elif 353 <= date_code <= 366:\n",
    "            print('Стрелец')\n",
    "\n",
    "    else:\n",
    "        print('Введите, пожалуйста, правильную дату')\n",
    "        \n",
    "else:\n",
    "    print('Введите, пожалуйста, правильную дату')"
   ]
  },
  {
   "cell_type": "markdown",
   "metadata": {},
   "source": [
    "**Задание 4**. Нужно разработать приложение для финансового планирования.\n",
    "Приложение учитывает сколько уходит на ипотеку, \"на жизнь\" и сколько нужно отложить на пенсию.\n",
    "Пользователь вводит:\n",
    "- заработанную плату в месяц.\n",
    "- сколько процентов от ЗП уходит на ипотеку.\n",
    "- сколько процентов от ЗП уходит \"на жизнь\".\n",
    "- сколько раз приходит премия в год.\n",
    "\n",
    "Остальная часть заработанной платы откладывается на пенсию.\n",
    "\n",
    "Также пользователю приходит премия в размере зарплаты, от которой половина уходит на отпуск, а вторая половина откладывается.\n",
    "\n",
    "Программа должна учитывать сколько премий было в год.\n",
    "\n",
    "Нужно вывести сколько денег тратит пользователь на ипотеку и сколько он накопит за год.\n",
    "\n",
    "Пример:\n",
    "\n",
    "Введите заработанную плату в месяц: 100000\n",
    "\n",
    "Введите сколько процентов уходит на ипотеку: 30\n",
    "\n",
    "Введите сколько процентов уходит на жизнь: 50\n",
    "\n",
    "Введите количество премий за год: 2\n",
    "\n",
    "Вывод:\n",
    "На ипотеку было потрачено: 360000 рублей\n",
    "Было накоплено: 340000 рублей"
   ]
  },
  {
   "cell_type": "code",
   "execution_count": null,
   "metadata": {},
   "outputs": [],
   "source": [
    "salary = int(input('Введите размер Вашей ЗП: '))\n",
    "credit_size = int(input('Сколько Вы платите за ипотеку, % от ЗП: '))\n",
    "mounth_expenses = int(input('Сколько Вы в среднем тратите в месяц на \"жизнь\", % от ЗП? '))\n",
    "number_of_bonus = int(input('Сколько раз в год Вы получаете премию? '))\n",
    "\n",
    "year_credit_size = salary * 0.12 * credit_size\n",
    "year_expenses = salary * 0.12 * mounth_expenses\n",
    "your_year_capital = (salary * 12) - (year_credit_size + year_expenses) + (salary * number_of_bonus / 2)\n",
    "\n",
    "print('На ипотеку было потрачено: ', int(year_credit_size),'. За год Вы накопили: ', int(your_year_capital), sep='')"
   ]
  },
  {
   "cell_type": "markdown",
   "metadata": {},
   "source": [
    "**Задание 5 (дополнительное 1)**\n",
    "Задание 1\n",
    "\n",
    "Начинающий произносит число “1”, и каждый следующий игрок прибавляет к предыдущему значению единицу. Когда число делится на три оно заменяется на fizz, если число делится на пять, то произносится buzz. Числа, делящиеся на три и пять одновременно заменяются на fizz buzz. Сделавший ошибку игрок исключается из игры.\n",
    "\n",
    "Типичная партия в fizz buzz выглядит так:\n",
    "1, 2, Fizz, 4, Buzz, Fizz, 7, 8, Fizz, Buzz, 11, Fizz, 13, 14, Fizz Buzz, 16, 17, Fizz, 19, Buzz, Fizz, 22, 23, Fizz, Buzz, 26, Fizz, 28, 29, Fizz Buzz, 31, 32, Fizz, 34, Buzz, Fizz, …\n",
    "\n",
    "Напишите код, выводящий на экран первые n элементов этой игры (естественно, корректные)."
   ]
  },
  {
   "cell_type": "code",
   "execution_count": null,
   "metadata": {},
   "outputs": [],
   "source": [
    "n = int(input('Введите количество шагов: '))\n",
    "x = 1\n",
    "\n",
    "\n",
    "while x <= n:\n",
    "    if (x % 3 == 0) and (x % 5 == 0):\n",
    "        print('Fizz Buzz', end=' ')\n",
    "        \n",
    "    elif (x % 3 == 0) and (not x % 5 == 0):\n",
    "        print('Fizz', end=' ')\n",
    "        \n",
    "    elif (not x % 3 == 0) and (x % 5 == 0):\n",
    "        print('Buzz', end=' ')\n",
    "               \n",
    "    else:\n",
    "        print(x, end=' ')\n",
    "    \n",
    "    if x != n:\n",
    "        print(',', end=' ')\n",
    "        \n",
    "    else:\n",
    "        print('.', end=' ')\n",
    "    \n",
    "    x += 1       \n",
    "        \n",
    "        "
   ]
  },
  {
   "cell_type": "markdown",
   "metadata": {},
   "source": [
    "**Задание 6 (Дополнительное - 2)**\n",
    "\n",
    "\n",
    "Датчик принимает сигнал, состоящий из 0 и 1. Известно, что сигнал имеет периодичность, не превышающей натурального числа n. Напишите код, который вычисляет периодичность сигнала. Считайте, что 3 < n < 1000, а общая длина сигнала значительно превышает n.\n",
    "\n",
    "\n",
    "Пример сигнала с периодичностью 4 (повторяющийся элемент 1011):\n",
    "1011101110111011101110111011101110111011"
   ]
  },
  {
   "cell_type": "code",
   "execution_count": null,
   "metadata": {},
   "outputs": [],
   "source": [
    "cosmos_code = input('Введите сигнал: ')\n",
    "n = 3\n",
    "\n",
    "while cosmos_code[:n] != cosmos_code[-n:]:\n",
    "    n += 1\n",
    "    \n",
    "print('Периодичность сигнала: ', n, sep='')\n",
    "print('Элемент: ', cosmos_code[:n], sep='')"
   ]
  },
  {
   "cell_type": "markdown",
   "metadata": {},
   "source": [
    "**Задание 7 (Дополнительное - 3)**\n",
    "\n",
    "Дано слово из латинских букв.\n",
    "Напишите скрипт, который выводит на экран букву из середины слова (если число букв нечетное). Если букв четное число, то на экран выводятся две буквы из середины.\n",
    "\n",
    "Для ‘test’ - 'es’\n",
    "Для ‘testing’ - ‘t’"
   ]
  },
  {
   "cell_type": "code",
   "execution_count": null,
   "metadata": {},
   "outputs": [],
   "source": [
    "word = input('Введите слово: ')\n",
    "length_word = len(word)\n",
    "\n",
    "if length_word % 2 != 0:\n",
    "    print(word[length_word // 2])\n",
    "else:\n",
    "    print(word[(length_word // 2-1):((length_word // 2)+1)])"
   ]
  }
 ],
 "metadata": {
  "kernelspec": {
   "display_name": "Python 3",
   "language": "python",
   "name": "python3"
  },
  "language_info": {
   "codemirror_mode": {
    "name": "ipython",
    "version": 3
   },
   "file_extension": ".py",
   "mimetype": "text/x-python",
   "name": "python",
   "nbconvert_exporter": "python",
   "pygments_lexer": "ipython3",
   "version": "3.7.4"
  }
 },
 "nbformat": 4,
 "nbformat_minor": 2
}
