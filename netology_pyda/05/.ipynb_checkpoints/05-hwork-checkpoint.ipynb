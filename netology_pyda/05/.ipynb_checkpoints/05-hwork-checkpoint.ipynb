{
 "cells": [
  {
   "cell_type": "markdown",
   "metadata": {},
   "source": [
    "### ДЗ-5 ###"
   ]
  },
  {
   "cell_type": "markdown",
   "metadata": {},
   "source": [
    "### Задача 1\n",
    "\n",
    "Переведите содержимое файла purchase_log.txt в словарь purchases вида:\n",
    "\n",
    "```python\n",
    "{'1840e0b9d4': 'Продукты', ...}\n",
    "```"
   ]
  },
  {
   "cell_type": "code",
   "execution_count": null,
   "metadata": {},
   "outputs": [],
   "source": [
    "import json"
   ]
  },
  {
   "cell_type": "code",
   "execution_count": null,
   "metadata": {},
   "outputs": [],
   "source": [
    "#Преобразование файла в словарь\n",
    "new_list = []\n",
    "purchases = {}\n",
    "double = 0\n",
    "\n",
    "with open('purchase_log.txt', 'r', encoding='UTF-8') as f:\n",
    "    for line in f:\n",
    "        p_dict = json.loads(line.strip())\n",
    "        \n",
    "        new_list = list(p_dict.values())\n",
    "        \n",
    "        if new_list[0] in purchases.keys():\n",
    "            purchases[new_list[0]] += new_list[1]\n",
    "            double += 1\n",
    "        \n",
    "        else:\n",
    "            purchases[new_list[0]] = new_list[1]"
   ]
  },
  {
   "cell_type": "code",
   "execution_count": null,
   "metadata": {},
   "outputs": [],
   "source": [
    "#Проверка словаря: вывод 5 пар, кол-ва ключей, кол-ва повторяющихся ключей\n",
    "i = 0\n",
    "for key, value in purchases.items():\n",
    "    print(key, value)\n",
    "    \n",
    "    i += 1\n",
    "    if i > 5:\n",
    "        break\n",
    "\n",
    "print(len(purchases))\n",
    "print('Количество клиентов, сделавших 2 и больше покупок: ', double, sep='')"
   ]
  },
  {
   "cell_type": "code",
   "execution_count": null,
   "metadata": {},
   "outputs": [],
   "source": [
    "#Запись словаря в файл purchases.txt\n",
    "with open('purchases.txt', 'w') as new_file:\n",
    "    for key, value in purchases.items():\n",
    "        new_file.write(f'{key}: {value}\\n')      "
   ]
  },
  {
   "cell_type": "code",
   "execution_count": null,
   "metadata": {},
   "outputs": [],
   "source": [
    "def read_n(n, file_name, include_header=True):\n",
    "    f = open(file_name, 'r')\n",
    "    \n",
    "    if not include_header:\n",
    "        next(f)\n",
    "\n",
    "    for i in range(n):\n",
    "        print(f.readline().strip())\n",
    "        "
   ]
  },
  {
   "cell_type": "code",
   "execution_count": null,
   "metadata": {},
   "outputs": [],
   "source": [
    "#Проверка файла с новым словарем purchases.txt\n",
    "read_n(5, 'purchases.txt', include_header=False)"
   ]
  },
  {
   "cell_type": "markdown",
   "metadata": {},
   "source": [
    "### Задача 2\n",
    "\n",
    "Для каждого user_id в файле visit_log.csv добавьте третий столбец с категорией покупки (если покупка была)."
   ]
  },
  {
   "cell_type": "code",
   "execution_count": null,
   "metadata": {},
   "outputs": [],
   "source": [
    "#Запись нового файла с третьим столбцом\n",
    "with open('visit_log.csv', 'r') as f:\n",
    "    with open('visit_log_plus.csv', 'w') as plus:\n",
    "        \n",
    "        for i in f:\n",
    "            x = i.strip().split(',')\n",
    "        \n",
    "            if x[0] == 'user_id':\n",
    "                x += ['purchases']\n",
    "\n",
    "            elif x[0] in purchases.keys():\n",
    "                x += [purchases[x[0]]]\n",
    "\n",
    "            else:\n",
    "                x += ['null']\n",
    "                                \n",
    "            plus.write(','.join(x) +'\\n')"
   ]
  },
  {
   "cell_type": "code",
   "execution_count": null,
   "metadata": {},
   "outputs": [],
   "source": [
    "read_n(5, 'visit_log.csv', include_header=False)"
   ]
  },
  {
   "cell_type": "code",
   "execution_count": null,
   "metadata": {},
   "outputs": [],
   "source": [
    "read_n(5, 'visit_log_plus.csv', include_header=True)"
   ]
  },
  {
   "cell_type": "markdown",
   "metadata": {},
   "source": [
    "### Задача 3\n",
    "\n",
    "Запишите в файл funnel.csv визиты из файла visit_log.csv, в которых были покупки с указанием категории"
   ]
  },
  {
   "cell_type": "code",
   "execution_count": null,
   "metadata": {},
   "outputs": [],
   "source": [
    "#Запись визитов\n",
    "new_line = []\n",
    "\n",
    "with open('visit_log_plus.csv', 'r') as f:\n",
    "    with open('funnel.csv', 'w') as fun:\n",
    "        for i in f:\n",
    "            x = i.strip().split(',')\n",
    "            \n",
    "            if x[2] != 'null':\n",
    "                new_line = x\n",
    "\n",
    "                fun.write(','.join(new_line) +'\\n')         \n",
    "        \n",
    "        "
   ]
  },
  {
   "cell_type": "code",
   "execution_count": null,
   "metadata": {},
   "outputs": [],
   "source": [
    "read_n(5, 'funnel.csv', include_header=True)"
   ]
  },
  {
   "cell_type": "code",
   "execution_count": null,
   "metadata": {},
   "outputs": [],
   "source": []
  }
 ],
 "metadata": {
  "kernelspec": {
   "display_name": "Python 3",
   "language": "python",
   "name": "python3"
  },
  "language_info": {
   "codemirror_mode": {
    "name": "ipython",
    "version": 3
   },
   "file_extension": ".py",
   "mimetype": "text/x-python",
   "name": "python",
   "nbconvert_exporter": "python",
   "pygments_lexer": "ipython3",
   "version": "3.7.4"
  }
 },
 "nbformat": 4,
 "nbformat_minor": 2
}
