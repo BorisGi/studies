{
 "cells": [
  {
   "cell_type": "markdown",
   "metadata": {},
   "source": [
    "# Домашнее задание к лекции \"Регулярные выражения\""
   ]
  },
  {
   "cell_type": "markdown",
   "metadata": {},
   "source": [
    "## Задание 1"
   ]
  },
  {
   "cell_type": "markdown",
   "metadata": {},
   "source": [
    "Напишите функцию, которая принимает на вход строку и проверяет является ли она валидным транспортным номером. Если да, то функция должна возвращать отдельно номер и регион."
   ]
  },
  {
   "cell_type": "code",
   "execution_count": 1,
   "metadata": {},
   "outputs": [],
   "source": [
    "import re"
   ]
  },
  {
   "cell_type": "code",
   "execution_count": 2,
   "metadata": {},
   "outputs": [],
   "source": [
    "def number_validation():\n",
    "    n_dict = {}\n",
    "\n",
    "    with open('codes.txt', 'r', encoding='UTF-8') as f:\n",
    "        for line in f:\n",
    "            new_list = []\n",
    "            new_list += line.strip().split(',')\n",
    "            n_dict[new_list[0]] = new_list[1]\n",
    "\n",
    "    transport_number = input('Введите номер в формате: х111хх хх').upper()\n",
    "    regex_number = r'([ABEKMHOPCTYXАВЕКМНОРСТУХ]{1})(\\d{3})([ABEKMHOPCTYXАВЕКМНОРСТУХ]{2})\\s(\\d{2,3})'\n",
    "    transport_number_valid = re.findall(regex_number, transport_number)\n",
    "    \n",
    "    if len(transport_number_valid) == 0 or transport_number_valid[0][3] not in n_dict.keys():\n",
    "        print('Номер не валидный')\n",
    "    else:\n",
    "        print('Номер: ', transport_number_valid[0][0], transport_number_valid[0][1],\n",
    "              transport_number_valid[0][2], sep='')\n",
    "        print('Регион:', transport_number_valid[0][3], n_dict[transport_number_valid[0][3]]) "
   ]
  },
  {
   "cell_type": "code",
   "execution_count": 3,
   "metadata": {},
   "outputs": [
    {
     "name": "stdout",
     "output_type": "stream",
     "text": [
      "Введите номер в формате: х111хх ххM123aa 48\n",
      "Номер: M123AA\n",
      "Регион: 48 Липецкая область\n"
     ]
    }
   ],
   "source": [
    "number_validation()"
   ]
  },
  {
   "cell_type": "markdown",
   "metadata": {},
   "source": [
    "## Задание 2"
   ]
  },
  {
   "cell_type": "markdown",
   "metadata": {},
   "source": [
    "Напишите функцию, которая проверяет e-mail адрес на валидность по стандарту RFC822: http://www.w3.org/Protocols/rfc822/. Для этого постарайтесь написать (в крайнем случае найти) самый полный шаблон для проверки e-mail адресов через регулярное выражение. Разберитесь и напишите примеры, какие ваш шаблон может не охватить."
   ]
  },
  {
   "cell_type": "code",
   "execution_count": 6,
   "metadata": {},
   "outputs": [],
   "source": [
    "def email_valid(mail):\n",
    "    regex_mails = r'([A-Za-z0-9-_!#$%&*+/=?^`{|}~.@/' '/\" \"]{1,64})@([A-Za-z0-9-+]{1,189}[A-Za-z0-9]{1}\\.)?([A-Za-z0-9-+]{1,62}[a-z]{1})\\.([A-Za-z0-9-+]{1,7}[a-z]$)'\n",
    "    validation = re.findall(regex_mails, mail)\n",
    "    if validation != []:\n",
    "        print('Адрес ', mail, ' валиден по стандарту RFC822', sep='')\n",
    "            \n",
    "    else:\n",
    "        print('Адрес ', mail, ' невалиден по стандарту RFC822', sep='')"
   ]
  },
  {
   "cell_type": "code",
   "execution_count": 7,
   "metadata": {},
   "outputs": [
    {
     "name": "stdout",
     "output_type": "stream",
     "text": [
      "Адрес post@post.ru валиден по стандарту RFC822\n",
      "Адрес best.post@post.ru валиден по стандарту RFC822\n",
      "Адрес fast_post@post.ru валиден по стандарту RFC822\n",
      "Адрес post\" \"@post.ru валиден по стандарту RFC822\n",
      "Адрес need_post!@post.ru валиден по стандарту RFC822\n",
      "Адрес most_important_post!@post.ru валиден по стандарту RFC822\n",
      "Адрес post+yandex922@post.ru валиден по стандарту RFC822\n",
      "Адрес post@post_post.ru невалиден по стандарту RFC822\n",
      "Адрес post@poster1-.ru невалиден по стандарту RFC822\n",
      "Адрес xn--80a1acny@xn--80a1acny.xn--p1ai валиден по стандарту RFC822\n"
     ]
    }
   ],
   "source": [
    "#проверка\n",
    "mail_list = ['post@post.ru',\n",
    "             'best.post@post.ru',\n",
    "             'fast_post@post.ru',\n",
    "             'post\" \"@post.ru',\n",
    "             'need_post!@post.ru',\n",
    "             'most_important_post!@post.ru',\n",
    "             'post+yandex922@post.ru',\n",
    "             'post@post_post.ru',\n",
    "             'post@poster1-.ru',\n",
    "             'xn--80a1acny@xn--80a1acny.xn--p1ai'\n",
    "            ]\n",
    "\n",
    "for i in mail_list:\n",
    "    email_valid(i)\n",
    "    \n"
   ]
  },
  {
   "cell_type": "markdown",
   "metadata": {},
   "source": [
    "## Задание 3\n",
    "Напишите функцию, которая будет удалять все последовательные повторы слов из заданной строки."
   ]
  },
  {
   "cell_type": "code",
   "execution_count": 412,
   "metadata": {},
   "outputs": [],
   "source": [
    "ex_string = 'Кто-нибудь кто-нибудь сделает сделает что-нибудь что-нибудь'"
   ]
  },
  {
   "cell_type": "code",
   "execution_count": 413,
   "metadata": {},
   "outputs": [],
   "source": [
    "def double_delete(text):\n",
    "    text1 = re.sub(r'\\b(\\w+-?\\w+)( \\1)+', r'\\1', text, flags=re.I)\n",
    "    print(text1)"
   ]
  },
  {
   "cell_type": "code",
   "execution_count": 414,
   "metadata": {},
   "outputs": [
    {
     "name": "stdout",
     "output_type": "stream",
     "text": [
      "Кто-нибудь сделает что-нибудь\n"
     ]
    }
   ],
   "source": [
    "double_delete(ex_string)"
   ]
  },
  {
   "cell_type": "markdown",
   "metadata": {},
   "source": [
    "## Задание 4\n",
    "Напишите функцию, которая будет проверять номер сотового телефона на валидность, если он валиден, то переводить его в формат:   \n",
    "+7(xxx)-xxx-xx-xx  \n",
    "Постарайтесь предусмотреть как можно больше адекватных форматов изначального ввода номера.\n",
    "Примеры правильных и неправильных форматов:\n",
    "- +7 955 555-55-55;\n",
    "- 955555555;\n",
    "- 8(955)555-55-55;\n",
    "- +7 955 555 55 55;\n",
    "- 7(955) 555-55-55;\n",
    "- +7 955+555+55+55."
   ]
  },
  {
   "cell_type": "code",
   "execution_count": 492,
   "metadata": {},
   "outputs": [],
   "source": [
    "phone_number_list = [\n",
    "'+7 955 555-55-55',\n",
    "'955555555',\n",
    "'8(955)777-77-77',\n",
    "'+7 955 555 55 55',\n",
    "'7(955) 555-55-55',\n",
    "'+7 955+555+55+55']"
   ]
  },
  {
   "cell_type": "code",
   "execution_count": 506,
   "metadata": {},
   "outputs": [],
   "source": [
    "def phone_number_validation(ph_list):\n",
    "    phone_number_valid = r'(7|8)?([\\d+]{3})([\\d+]{3})([\\d+]{2})([\\d+]{2})'\n",
    "    for i in ph_list:\n",
    "        phone_number = re.sub(r' |\\+|\\(|\\)|-|\\/|\\|', '', i)\n",
    "        validation = re.findall(phone_number_valid, phone_number)\n",
    "        \n",
    "        if validation == []:\n",
    "            print('\\033[1m', 'Номер ', i, ' не валиден', '\\033[0m', sep='')\n",
    "        else:\n",
    "            print('Номер ', 'валиден: ', '+7 (', validation[0][1], ') ', validation[0][2], '-',\n",
    "                                               validation[0][4], '-', validation[0][2], sep='')"
   ]
  },
  {
   "cell_type": "code",
   "execution_count": 507,
   "metadata": {},
   "outputs": [
    {
     "name": "stdout",
     "output_type": "stream",
     "text": [
      "Номер валиден: +7 (955) 555-55-555\n",
      "\u001b[1mНомер 955555555 не валиден\u001b[0m\n",
      "Номер валиден: +7 (955) 777-77-777\n",
      "Номер валиден: +7 (955) 555-55-555\n",
      "Номер валиден: +7 (955) 555-55-555\n",
      "Номер валиден: +7 (955) 555-55-555\n"
     ]
    }
   ],
   "source": [
    "phone_number_validation(phone_number_list)"
   ]
  },
  {
   "cell_type": "code",
   "execution_count": null,
   "metadata": {},
   "outputs": [],
   "source": []
  }
 ],
 "metadata": {
  "kernelspec": {
   "display_name": "Python 3",
   "language": "python",
   "name": "python3"
  },
  "language_info": {
   "codemirror_mode": {
    "name": "ipython",
    "version": 3
   },
   "file_extension": ".py",
   "mimetype": "text/x-python",
   "name": "python",
   "nbconvert_exporter": "python",
   "pygments_lexer": "ipython3",
   "version": "3.7.4"
  }
 },
 "nbformat": 4,
 "nbformat_minor": 2
}
