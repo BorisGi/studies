{
 "cells": [
  {
   "cell_type": "markdown",
   "metadata": {},
   "source": [
    "# Домашняя работа №5."
   ]
  },
  {
   "cell_type": "code",
   "execution_count": 1,
   "metadata": {},
   "outputs": [],
   "source": [
    "import numpy as np\n",
    "from scipy.stats import t\n",
    "from scipy.stats import norm\n",
    "import matplotlib.pyplot as plt\n",
    "from scipy import stats\n",
    "import researchpy as rp\n",
    "import pandas as pd\n",
    "import io\n",
    "import requests\n",
    "import seaborn as sns\n",
    "sns.set_style('darkgrid')\n",
    "from scipy.stats import pearsonr\n",
    "import ssl\n",
    "from pylab import *\n",
    "\n",
    "# следующая строчка подключает сертификат для защищенного соединения\n",
    "ssl._create_default_https_context = ssl._create_unverified_context\n",
    "%matplotlib inline"
   ]
  },
  {
   "cell_type": "markdown",
   "metadata": {},
   "source": [
    "* Написать модель Random Forest на датасет больных сердечными болезнями (можно почистить от выбросов)."
   ]
  },
  {
   "cell_type": "code",
   "execution_count": 2,
   "metadata": {},
   "outputs": [],
   "source": [
    "url=\"http://yustiks.ru/dataset/cardio_train.csv\"\n",
    "data=pd.read_csv(url,sep=\";\")"
   ]
  },
  {
   "cell_type": "markdown",
   "metadata": {},
   "source": [
    "Данный датасет разобран в начале лекции 5. "
   ]
  },
  {
   "cell_type": "code",
   "execution_count": 3,
   "metadata": {},
   "outputs": [
    {
     "data": {
      "text/html": [
       "<div>\n",
       "<style scoped>\n",
       "    .dataframe tbody tr th:only-of-type {\n",
       "        vertical-align: middle;\n",
       "    }\n",
       "\n",
       "    .dataframe tbody tr th {\n",
       "        vertical-align: top;\n",
       "    }\n",
       "\n",
       "    .dataframe thead th {\n",
       "        text-align: right;\n",
       "    }\n",
       "</style>\n",
       "<table border=\"1\" class=\"dataframe\">\n",
       "  <thead>\n",
       "    <tr style=\"text-align: right;\">\n",
       "      <th></th>\n",
       "      <th>id</th>\n",
       "      <th>age</th>\n",
       "      <th>gender</th>\n",
       "      <th>height</th>\n",
       "      <th>weight</th>\n",
       "      <th>ap_hi</th>\n",
       "      <th>ap_lo</th>\n",
       "      <th>cholesterol</th>\n",
       "      <th>gluc</th>\n",
       "      <th>smoke</th>\n",
       "      <th>alco</th>\n",
       "      <th>active</th>\n",
       "      <th>cardio</th>\n",
       "    </tr>\n",
       "  </thead>\n",
       "  <tbody>\n",
       "    <tr>\n",
       "      <td>0</td>\n",
       "      <td>0</td>\n",
       "      <td>18393</td>\n",
       "      <td>2</td>\n",
       "      <td>168</td>\n",
       "      <td>62.0</td>\n",
       "      <td>110</td>\n",
       "      <td>80</td>\n",
       "      <td>1</td>\n",
       "      <td>1</td>\n",
       "      <td>0</td>\n",
       "      <td>0</td>\n",
       "      <td>1</td>\n",
       "      <td>0</td>\n",
       "    </tr>\n",
       "    <tr>\n",
       "      <td>1</td>\n",
       "      <td>1</td>\n",
       "      <td>20228</td>\n",
       "      <td>1</td>\n",
       "      <td>156</td>\n",
       "      <td>85.0</td>\n",
       "      <td>140</td>\n",
       "      <td>90</td>\n",
       "      <td>3</td>\n",
       "      <td>1</td>\n",
       "      <td>0</td>\n",
       "      <td>0</td>\n",
       "      <td>1</td>\n",
       "      <td>1</td>\n",
       "    </tr>\n",
       "    <tr>\n",
       "      <td>2</td>\n",
       "      <td>2</td>\n",
       "      <td>18857</td>\n",
       "      <td>1</td>\n",
       "      <td>165</td>\n",
       "      <td>64.0</td>\n",
       "      <td>130</td>\n",
       "      <td>70</td>\n",
       "      <td>3</td>\n",
       "      <td>1</td>\n",
       "      <td>0</td>\n",
       "      <td>0</td>\n",
       "      <td>0</td>\n",
       "      <td>1</td>\n",
       "    </tr>\n",
       "    <tr>\n",
       "      <td>3</td>\n",
       "      <td>3</td>\n",
       "      <td>17623</td>\n",
       "      <td>2</td>\n",
       "      <td>169</td>\n",
       "      <td>82.0</td>\n",
       "      <td>150</td>\n",
       "      <td>100</td>\n",
       "      <td>1</td>\n",
       "      <td>1</td>\n",
       "      <td>0</td>\n",
       "      <td>0</td>\n",
       "      <td>1</td>\n",
       "      <td>1</td>\n",
       "    </tr>\n",
       "    <tr>\n",
       "      <td>4</td>\n",
       "      <td>4</td>\n",
       "      <td>17474</td>\n",
       "      <td>1</td>\n",
       "      <td>156</td>\n",
       "      <td>56.0</td>\n",
       "      <td>100</td>\n",
       "      <td>60</td>\n",
       "      <td>1</td>\n",
       "      <td>1</td>\n",
       "      <td>0</td>\n",
       "      <td>0</td>\n",
       "      <td>0</td>\n",
       "      <td>0</td>\n",
       "    </tr>\n",
       "  </tbody>\n",
       "</table>\n",
       "</div>"
      ],
      "text/plain": [
       "   id    age  gender  height  weight  ap_hi  ap_lo  cholesterol  gluc  smoke  \\\n",
       "0   0  18393       2     168    62.0    110     80            1     1      0   \n",
       "1   1  20228       1     156    85.0    140     90            3     1      0   \n",
       "2   2  18857       1     165    64.0    130     70            3     1      0   \n",
       "3   3  17623       2     169    82.0    150    100            1     1      0   \n",
       "4   4  17474       1     156    56.0    100     60            1     1      0   \n",
       "\n",
       "   alco  active  cardio  \n",
       "0     0       1       0  \n",
       "1     0       1       1  \n",
       "2     0       0       1  \n",
       "3     0       1       1  \n",
       "4     0       0       0  "
      ]
     },
     "execution_count": 3,
     "metadata": {},
     "output_type": "execute_result"
    }
   ],
   "source": [
    "data.head()"
   ]
  },
  {
   "cell_type": "code",
   "execution_count": 4,
   "metadata": {},
   "outputs": [
    {
     "data": {
      "text/plain": [
       "70000"
      ]
     },
     "execution_count": 4,
     "metadata": {},
     "output_type": "execute_result"
    }
   ],
   "source": [
    "el_number_1 = len(data)\n",
    "el_number_1"
   ]
  },
  {
   "cell_type": "markdown",
   "metadata": {},
   "source": [
    "### Сначала проверка на ошибки ###"
   ]
  },
  {
   "cell_type": "code",
   "execution_count": 5,
   "metadata": {},
   "outputs": [
    {
     "data": {
      "text/plain": [
       "id             0\n",
       "age            0\n",
       "gender         0\n",
       "height         0\n",
       "weight         0\n",
       "ap_hi          0\n",
       "ap_lo          0\n",
       "cholesterol    0\n",
       "gluc           0\n",
       "smoke          0\n",
       "alco           0\n",
       "active         0\n",
       "cardio         0\n",
       "dtype: int64"
      ]
     },
     "execution_count": 5,
     "metadata": {},
     "output_type": "execute_result"
    }
   ],
   "source": [
    "# проверяем пустые значения\n",
    "data.isnull().sum()"
   ]
  },
  {
   "cell_type": "markdown",
   "metadata": {},
   "source": [
    "Рекордное давление 310/220 (систолическое / дистолическое), все что выше - ошибочные данные"
   ]
  },
  {
   "cell_type": "code",
   "execution_count": 6,
   "metadata": {},
   "outputs": [
    {
     "data": {
      "text/plain": [
       "(39, 13)"
      ]
     },
     "execution_count": 6,
     "metadata": {},
     "output_type": "execute_result"
    }
   ],
   "source": [
    "# систолическое давление, превышающее рекордное значение \n",
    "data[data.ap_hi > 310].shape"
   ]
  },
  {
   "cell_type": "code",
   "execution_count": 7,
   "metadata": {},
   "outputs": [
    {
     "data": {
      "text/plain": [
       "(953, 13)"
      ]
     },
     "execution_count": 7,
     "metadata": {},
     "output_type": "execute_result"
    }
   ],
   "source": [
    "# дистолическое давление, превышающее рекордное значение \n",
    "data[data.ap_lo > 220].shape"
   ]
  },
  {
   "cell_type": "code",
   "execution_count": 8,
   "metadata": {},
   "outputs": [],
   "source": [
    "# удаляем ошибочные значения\n",
    "data = data.drop(data[data.ap_hi > 310].index)\n",
    "data = data.drop(data[data.ap_lo > 220].index)\n",
    "data = data.drop(data[data.ap_lo > data.ap_hi].index)"
   ]
  },
  {
   "cell_type": "markdown",
   "metadata": {},
   "source": [
    "Проверяем рост и вес, удаляем экстремальные значения"
   ]
  },
  {
   "cell_type": "markdown",
   "metadata": {},
   "source": [
    "Значения, выходящие за квартили, вес:"
   ]
  },
  {
   "cell_type": "code",
   "execution_count": 9,
   "metadata": {},
   "outputs": [
    {
     "data": {
      "text/plain": [
       "0.05     55.0\n",
       "0.95    100.0\n",
       "Name: weight, dtype: float64"
      ]
     },
     "execution_count": 9,
     "metadata": {},
     "output_type": "execute_result"
    }
   ],
   "source": [
    "low = .05\n",
    "high = .95\n",
    "data.weight.quantile([low, high])"
   ]
  },
  {
   "cell_type": "markdown",
   "metadata": {},
   "source": [
    "Значения, выходящие за квартили, рост:"
   ]
  },
  {
   "cell_type": "code",
   "execution_count": 10,
   "metadata": {},
   "outputs": [
    {
     "data": {
      "text/plain": [
       "0.05    152.0\n",
       "0.95    178.0\n",
       "Name: height, dtype: float64"
      ]
     },
     "execution_count": 10,
     "metadata": {},
     "output_type": "execute_result"
    }
   ],
   "source": [
    "data.height.quantile([low, high])"
   ]
  },
  {
   "cell_type": "markdown",
   "metadata": {},
   "source": [
    "Если делать выборку по квантилям модель получается менее точной, поэтому просто отсеиваем экстремальные значения."
   ]
  },
  {
   "cell_type": "code",
   "execution_count": 11,
   "metadata": {},
   "outputs": [],
   "source": [
    "# отсеиваем людей с недостатком и переизбытком соматропина, а также людей которые весят меньше 35 кг.\n",
    "data = data.drop(data[data.height > 210].index)\n",
    "data = data.drop(data[data.height < 147].index)\n",
    "data = data.drop(data[data.weight < 35].index)"
   ]
  },
  {
   "cell_type": "code",
   "execution_count": 12,
   "metadata": {},
   "outputs": [],
   "source": [
    "# отсеиваем по квантилям\n",
    "#data = data.drop(data[data.weight < 55].index)\n",
    "#data = data.drop(data[data.weight > 100].index)\n",
    "#data = data.drop(data[data.height < 152].index)\n",
    "#data = data.drop(data[data.height < 178].index)"
   ]
  },
  {
   "cell_type": "code",
   "execution_count": 13,
   "metadata": {},
   "outputs": [
    {
     "data": {
      "image/png": "[encoded data removed]",
      "text/plain": [
       "<Figure size 1080x720 with 12 Axes>"
      ]
     },
     "metadata": {
      "needs_background": "light"
     },
     "output_type": "display_data"
    }
   ],
   "source": [
    "# Гистограммы для быстрой проверки, есть ли ошибочные значения в \"бинарных\" показателях\n",
    "data.iloc[:,1:12].hist(figsize=(15,10), bins=30)\n",
    "plt.show()"
   ]
  },
  {
   "cell_type": "markdown",
   "metadata": {},
   "source": [
    "В бинарных показателях ошибок нет."
   ]
  },
  {
   "cell_type": "code",
   "execution_count": 14,
   "metadata": {},
   "outputs": [
    {
     "name": "stdout",
     "output_type": "stream",
     "text": [
      "Удалено: 1943 строк\n"
     ]
    }
   ],
   "source": [
    "el_number_2 = len(data)\n",
    "print('Удалено:', el_number_1 - el_number_2, 'строк')"
   ]
  },
  {
   "cell_type": "code",
   "execution_count": null,
   "metadata": {},
   "outputs": [],
   "source": []
  },
  {
   "cell_type": "markdown",
   "metadata": {},
   "source": [
    "Модель Random Forest при обучении дает такой метод как feature importance, используя его, можно оценить, какой параметр **максимально** влияет на болезнь."
   ]
  },
  {
   "cell_type": "code",
   "execution_count": 15,
   "metadata": {},
   "outputs": [],
   "source": [
    "from sklearn.preprocessing import LabelEncoder\n",
    "from sklearn.model_selection import train_test_split\n",
    "from sklearn.ensemble import RandomForestClassifier\n",
    "from sklearn.metrics import classification_report\n",
    "\n",
    "from sklearn import preprocessing"
   ]
  },
  {
   "cell_type": "code",
   "execution_count": 16,
   "metadata": {},
   "outputs": [],
   "source": [
    "output_y = data.iloc[:,12:]\n",
    "input_x = data.iloc[:,1:12]"
   ]
  },
  {
   "cell_type": "code",
   "execution_count": 17,
   "metadata": {},
   "outputs": [],
   "source": [
    "x_train, x_test, y_train, y_test = train_test_split(input_x, output_y, test_size = 0.2, random_state = 42)"
   ]
  },
  {
   "cell_type": "code",
   "execution_count": 18,
   "metadata": {},
   "outputs": [
    {
     "name": "stderr",
     "output_type": "stream",
     "text": [
      "C:\\Users\\Boris\\Anaconda3\\lib\\site-packages\\ipykernel_launcher.py:6: DataConversionWarning: A column-vector y was passed when a 1d array was expected. Please change the shape of y to (n_samples,), for example using ravel().\n",
      "  \n"
     ]
    },
    {
     "data": {
      "text/plain": [
       "RandomForestClassifier(bootstrap=True, ccp_alpha=0.0, class_weight=None,\n",
       "                       criterion='gini', max_depth=None, max_features='auto',\n",
       "                       max_leaf_nodes=None, max_samples=None,\n",
       "                       min_impurity_decrease=0.0, min_impurity_split=None,\n",
       "                       min_samples_leaf=1, min_samples_split=2,\n",
       "                       min_weight_fraction_leaf=0.0, n_estimators=100,\n",
       "                       n_jobs=None, oob_score=False, random_state=None,\n",
       "                       verbose=0, warm_start=False)"
      ]
     },
     "execution_count": 18,
     "metadata": {},
     "output_type": "execute_result"
    }
   ],
   "source": [
    "# создаем модель деревья решений\n",
    "# выбираем 100 деревьев в качестве параметра\n",
    "model=RandomForestClassifier(n_estimators=100)\n",
    "\n",
    "# обучаем модель\n",
    "model.fit(x_train, y_train)"
   ]
  },
  {
   "cell_type": "code",
   "execution_count": 19,
   "metadata": {},
   "outputs": [
    {
     "name": "stderr",
     "output_type": "stream",
     "text": [
      "No handles with labels found to put in legend.\n"
     ]
    },
    {
     "data": {
      "image/png": "[encoded data removed]",
      "text/plain": [
       "<Figure size 432x432 with 1 Axes>"
      ]
     },
     "metadata": {
      "needs_background": "light"
     },
     "output_type": "display_data"
    }
   ],
   "source": [
    "headers = list(x_train.columns.values)\n",
    "\n",
    "feature_imp = pd.Series(model.feature_importances_,index=headers).sort_values(ascending=False)\n",
    "\n",
    "f, ax = plt.subplots(figsize=(6, 6))\n",
    "sns.barplot(x=feature_imp, y=feature_imp.index)\n",
    "\n",
    "plt.xlabel('Важность атрибутов')\n",
    "plt.ylabel('Атрибуты')\n",
    "plt.title(\"Наиболее важные атрибуты\")\n",
    "plt.show()"
   ]
  },
  {
   "cell_type": "code",
   "execution_count": 20,
   "metadata": {},
   "outputs": [
    {
     "name": "stdout",
     "output_type": "stream",
     "text": [
      "              precision    recall  f1-score   support\n",
      "\n",
      "           0       0.71      0.73      0.72      6850\n",
      "           1       0.72      0.70      0.71      6762\n",
      "\n",
      "    accuracy                           0.71     13612\n",
      "   macro avg       0.71      0.71      0.71     13612\n",
      "weighted avg       0.71      0.71      0.71     13612\n",
      "\n"
     ]
    },
    {
     "data": {
      "text/plain": [
       "0.7140758154569498"
      ]
     },
     "execution_count": 20,
     "metadata": {},
     "output_type": "execute_result"
    }
   ],
   "source": [
    "model_pred = model.predict(x_test)\n",
    "\n",
    "print(classification_report(y_test, model_pred))\n",
    "\n",
    "model.score(x_test, y_test)"
   ]
  },
  {
   "cell_type": "code",
   "execution_count": null,
   "metadata": {},
   "outputs": [],
   "source": []
  },
  {
   "cell_type": "markdown",
   "metadata": {},
   "source": [
    "**Сделать вывод о том, какой атрибут оказывает значительное влияение на наличие или отсутствие болезни.**"
   ]
  },
  {
   "cell_type": "markdown",
   "metadata": {},
   "source": [
    "Наиболее значимым оказался фактор возраста, что ожидаемо."
   ]
  },
  {
   "cell_type": "markdown",
   "metadata": {},
   "source": [
    "Основная задача: определить, что влияет на сердечную болезнь больше всего. Например, выдвигая гипотезу о том, что тот кто курит, болеет чаще, мы сравниваем курящих пациентов с некурящими, и определяя насколько статистически значимы выборки, делаем вывод, что одна выборка статистически отличима от другой (или неотличима).\n",
    "    Выдвигаем гипотезу на самый важный атрибут, полученный из feature_importance (Random_Forest). И оцениваем гипотезу. И делаем вывод."
   ]
  },
  {
   "cell_type": "markdown",
   "metadata": {},
   "source": [
    "Два самых значимых атрибута - возраст и вес.\n",
    "\n",
    "В первом случае, можно предположить, чем старше пациент, тем вероятнее больший риск сердечно-сосудистых заболеваний.\n",
    "\n",
    "Во втором - чем больше вес, тем больше нагрузка на сердце и тем самым выше износ.\n",
    "\n",
    "Интересно, что курение и алкоголь - на последнем месте. Стоит посмотреть, есть связь между этими параметрами и заболеваниями сердца."
   ]
  },
  {
   "cell_type": "code",
   "execution_count": null,
   "metadata": {},
   "outputs": [],
   "source": []
  },
  {
   "cell_type": "markdown",
   "metadata": {},
   "source": [
    "**Возраст**"
   ]
  },
  {
   "cell_type": "code",
   "execution_count": 21,
   "metadata": {},
   "outputs": [],
   "source": [
    "# разделим данные на выборки: старше и младше 40, старше и младше 55 лет\n",
    "\n",
    "data_older_40 = data[data.age >= 14600]\n",
    "data_under_40 = data[data.age < 14600]\n",
    "\n",
    "data_older_55 = data[data.age >= 20075]\n",
    "data_under_55 = data[data.age < 20075]\n",
    "\n",
    "data_o40_u55 = data[ (data.age < 20075) & (data.age > 14600) ]"
   ]
  },
  {
   "cell_type": "markdown",
   "metadata": {},
   "source": [
    "Множественный тест (ANOVA) также показывает различие трех возрастных групп"
   ]
  },
  {
   "cell_type": "code",
   "execution_count": 22,
   "metadata": {},
   "outputs": [
    {
     "data": {
      "text/plain": [
       "F_onewayResult(statistic=1495.714535807348, pvalue=0.0)"
      ]
     },
     "execution_count": 22,
     "metadata": {},
     "output_type": "execute_result"
    }
   ],
   "source": [
    "stats.f_oneway(data_under_40.cardio, data_o40_u55.cardio, data_older_55.cardio)"
   ]
  },
  {
   "cell_type": "code",
   "execution_count": 23,
   "metadata": {},
   "outputs": [
    {
     "name": "stdout",
     "output_type": "stream",
     "text": [
      "   Variable        N      Mean        SD        SE  95% Conf.  Interval\n",
      "0    cardio   1745.0  0.238968  0.426576  0.010212   0.218940  0.258997\n",
      "1    cardio  66312.0  0.500890  0.500003  0.001942   0.497084  0.504695\n",
      "2  combined  68057.0  0.494174  0.499970  0.001916   0.490418  0.497930\n",
      "_____________________________\n",
      "                Independent t-test     results\n",
      "0  Difference (cardio - cardio) =      -0.2619\n",
      "1            Degrees of freedom =   68055.0000\n",
      "2                             t =     -21.6758\n",
      "3         Two side test p value =       0.0000\n",
      "4        Difference < 0 p value =       0.0000\n",
      "5        Difference > 0 p value =       1.0000\n",
      "6                     Cohen's d =      -0.5257\n",
      "7                     Hedge's g =      -0.5257\n",
      "8                 Glass's delta =      -0.6140\n",
      "9                             r =       0.0828\n"
     ]
    }
   ],
   "source": [
    "# сравним две группы, младше и старше 40 лет\n",
    "descriptives, results = rp.ttest(data_under_40.cardio, data_older_40.cardio)\n",
    "print(descriptives)\n",
    "print('_____________________________')\n",
    "print(results)"
   ]
  },
  {
   "cell_type": "code",
   "execution_count": 24,
   "metadata": {},
   "outputs": [
    {
     "data": {
      "text/plain": [
       "Ttest_indResult(statistic=-21.675803831374587, pvalue=7.80806554329086e-104)"
      ]
     },
     "execution_count": 24,
     "metadata": {},
     "output_type": "execute_result"
    }
   ],
   "source": [
    "stats.ttest_ind(data_under_40.cardio, data_older_40.cardio)"
   ]
  },
  {
   "cell_type": "markdown",
   "metadata": {},
   "source": [
    "P-value меньше 0.05, т.е. можно отвергнуть гипотезу о сходстве выборок. Среднее значение у людей старше 40 - 0.50, у людей младше 0.24."
   ]
  },
  {
   "cell_type": "code",
   "execution_count": 25,
   "metadata": {},
   "outputs": [
    {
     "name": "stdout",
     "output_type": "stream",
     "text": [
      "   Variable        N      Mean        SD        SE  95% Conf.  Interval\n",
      "0    cardio  68057.0  0.494174  0.499970  0.001916   0.490418  0.497930\n",
      "1    cardio  30250.0  0.604727  0.488917  0.002811   0.599217  0.610237\n",
      "2  combined  98307.0  0.528192  0.499207  0.001592   0.525072  0.531313\n",
      "_____________________________\n",
      "                Independent t-test     results\n",
      "0  Difference (cardio - cardio) =      -0.1106\n",
      "1            Degrees of freedom =   98305.0000\n",
      "2                             t =     -32.2163\n",
      "3         Two side test p value =       0.0000\n",
      "4        Difference < 0 p value =       0.0000\n",
      "5        Difference > 0 p value =       1.0000\n",
      "6                     Cohen's d =      -0.2226\n",
      "7                     Hedge's g =      -0.2226\n",
      "8                 Glass's delta =      -0.2211\n",
      "9                             r =       0.1022\n"
     ]
    }
   ],
   "source": [
    "# все пациенты и старше 55 лет\n",
    "descriptives, results = rp.ttest(data.cardio, data_older_55.cardio)\n",
    "print(descriptives)\n",
    "print('_____________________________')\n",
    "print(results)"
   ]
  },
  {
   "cell_type": "code",
   "execution_count": 26,
   "metadata": {},
   "outputs": [
    {
     "data": {
      "text/plain": [
       "Ttest_indResult(statistic=-32.216332588902326, pvalue=1.5913209572221331e-226)"
      ]
     },
     "execution_count": 26,
     "metadata": {},
     "output_type": "execute_result"
    }
   ],
   "source": [
    "stats.ttest_ind(data.cardio, data_older_55.cardio)"
   ]
  },
  {
   "cell_type": "markdown",
   "metadata": {},
   "source": [
    "Сравнивая любые группы, получаем p-value меньше 0,05, т.е. сравниваемые выборки имеют различия."
   ]
  },
  {
   "cell_type": "code",
   "execution_count": 27,
   "metadata": {},
   "outputs": [
    {
     "name": "stdout",
     "output_type": "stream",
     "text": [
      "   Variable        N      Mean        SD        SE  95% Conf.  Interval\n",
      "0    cardio  37807.0  0.405719  0.491037  0.002525   0.400769  0.410668\n",
      "1    cardio  30250.0  0.604727  0.488917  0.002811   0.599217  0.610237\n",
      "2  combined  68057.0  0.494174  0.499970  0.001916   0.490418  0.497930\n",
      "_____________________________\n",
      "                Independent t-test     results\n",
      "0  Difference (cardio - cardio) =      -0.1990\n",
      "1            Degrees of freedom =   68055.0000\n",
      "2                             t =     -52.6385\n",
      "3         Two side test p value =       0.0000\n",
      "4        Difference < 0 p value =       0.0000\n",
      "5        Difference > 0 p value =       1.0000\n",
      "6                     Cohen's d =      -0.4061\n",
      "7                     Hedge's g =      -0.4061\n",
      "8                 Glass's delta =      -0.4053\n",
      "9                             r =       0.1978\n"
     ]
    }
   ],
   "source": [
    "# пациенты младше и страше 55 лет\n",
    "descriptives, results = rp.ttest(data_under_55.cardio, data_older_55.cardio)\n",
    "print(descriptives)\n",
    "print('_____________________________')\n",
    "print(results)"
   ]
  },
  {
   "cell_type": "code",
   "execution_count": null,
   "metadata": {},
   "outputs": [],
   "source": []
  },
  {
   "cell_type": "markdown",
   "metadata": {},
   "source": [
    "**Курение**"
   ]
  },
  {
   "cell_type": "markdown",
   "metadata": {},
   "source": [
    "Показатель smoke - это просто отметка курит ли пациент в данный момент или нет, т.е. не учитывается стаж курения, курил пациент раньше или нет (он мог курить 40 лет, а потом бросить)."
   ]
  },
  {
   "cell_type": "markdown",
   "metadata": {},
   "source": [
    "Сравним две группы людей старше 55 лет: тех, кто курит и тех, кто не курит."
   ]
  },
  {
   "cell_type": "code",
   "execution_count": 28,
   "metadata": {},
   "outputs": [],
   "source": [
    "data_smoke = data[data.smoke == 1].cardio\n",
    "data_nosmoke = data[data.smoke == 0].cardio\n",
    "\n",
    "data_under_40_smoke = data_under_40[data_under_40.smoke == 1].cardio\n",
    "data_under_40_nosmoke = data_under_40[data_under_40.smoke == 0].cardio\n",
    "\n",
    "data_older_40_smoke = data_older_40[data_older_40.smoke == 1].cardio\n",
    "data_older_40_nosmoke = data_older_40[data_older_40.smoke == 0].cardio\n",
    "\n",
    "data_older_55_smoke = data_older_55[data_older_55.smoke == 1].cardio\n",
    "data_older_55_nosmoke = data_older_55[data_older_55.smoke == 0].cardio\n",
    "\n",
    "data_under_55_smoke = data_under_55[data_under_55.smoke == 1].cardio\n",
    "data_under_55_nosmoke = data_under_55[data_under_55.smoke == 0].cardio"
   ]
  },
  {
   "cell_type": "code",
   "execution_count": 29,
   "metadata": {},
   "outputs": [
    {
     "name": "stdout",
     "output_type": "stream",
     "text": [
      "   Variable       N      Mean        SD        SE  95% Conf.  Interval\n",
      "0    cardio  1557.0  0.238921  0.426561  0.010810   0.217717  0.260125\n",
      "1    cardio   188.0  0.239362  0.427833  0.031203   0.177807  0.300917\n",
      "2  combined  1745.0  0.238968  0.426576  0.010212   0.218940  0.258997\n",
      "_____________________________\n",
      "                Independent t-test    results\n",
      "0  Difference (cardio - cardio) =     -0.0004\n",
      "1            Degrees of freedom =   1743.0000\n",
      "2                             t =     -0.0134\n",
      "3         Two side test p value =      0.9893\n",
      "4        Difference < 0 p value =      0.4947\n",
      "5        Difference > 0 p value =      0.5053\n",
      "6                     Cohen's d =     -0.0010\n",
      "7                     Hedge's g =     -0.0010\n",
      "8                 Glass's delta =     -0.0010\n",
      "9                             r =      0.0003\n"
     ]
    }
   ],
   "source": [
    "# курящие и некурящие младше 40\n",
    "\n",
    "descriptives, results = rp.ttest(data_under_40_nosmoke, data_under_40_smoke)\n",
    "print(descriptives)\n",
    "print('_____________________________')\n",
    "print(results)"
   ]
  },
  {
   "cell_type": "code",
   "execution_count": 30,
   "metadata": {},
   "outputs": [
    {
     "data": {
      "text/plain": [
       "Ttest_indResult(statistic=0.013376673603450106, pvalue=0.989328807816468)"
      ]
     },
     "execution_count": 30,
     "metadata": {},
     "output_type": "execute_result"
    }
   ],
   "source": [
    "stats.ttest_ind(data_under_40_smoke, data_under_40_nosmoke)"
   ]
  },
  {
   "cell_type": "markdown",
   "metadata": {},
   "source": [
    "В выборках до 40 - p-value больше 0.05, т.е. мы не можем отвергнуть гипотезу о значимых различиях, плюс средние значения почти одинаковы.\n",
    "\n",
    "Однако, сравнивая выборки пациентов старше 40 и старше 55, мы получаем p-value - 0.0001 и 0.0027, соответственно.\n",
    "Раз значения меньше альфы, можно говорить о статистических различиях."
   ]
  },
  {
   "cell_type": "code",
   "execution_count": 31,
   "metadata": {},
   "outputs": [
    {
     "name": "stdout",
     "output_type": "stream",
     "text": [
      "   Variable        N      Mean        SD        SE  95% Conf.  Interval\n",
      "0    cardio  60475.0  0.503299  0.499993  0.002033   0.499314  0.507284\n",
      "1    cardio   5837.0  0.475929  0.499463  0.006537   0.463114  0.488745\n",
      "2  combined  66312.0  0.500890  0.500003  0.001942   0.497084  0.504695\n",
      "_____________________________\n",
      "                Independent t-test     results\n",
      "0  Difference (cardio - cardio) =       0.0274\n",
      "1            Degrees of freedom =   66310.0000\n",
      "2                             t =       3.9942\n",
      "3         Two side test p value =       0.0001\n",
      "4        Difference < 0 p value =       1.0000\n",
      "5        Difference > 0 p value =       0.0000\n",
      "6                     Cohen's d =       0.0547\n",
      "7                     Hedge's g =       0.0547\n",
      "8                 Glass's delta =       0.0547\n",
      "9                             r =       0.0155\n"
     ]
    }
   ],
   "source": [
    "# курящие и некурящие страше 40\n",
    "\n",
    "descriptives, results = rp.ttest(data_older_40_nosmoke, data_older_40_smoke)\n",
    "print(descriptives)\n",
    "print('_____________________________')\n",
    "print(results)"
   ]
  },
  {
   "cell_type": "code",
   "execution_count": 32,
   "metadata": {},
   "outputs": [
    {
     "name": "stdout",
     "output_type": "stream",
     "text": [
      "   Variable        N      Mean        SD        SE  95% Conf.  Interval\n",
      "0    cardio  27920.0  0.607163  0.488390  0.002923   0.601434  0.612892\n",
      "1    cardio   2330.0  0.575536  0.494367  0.010242   0.555453  0.595620\n",
      "2  combined  30250.0  0.604727  0.488917  0.002811   0.599217  0.610237\n",
      "_____________________________\n",
      "                Independent t-test     results\n",
      "0  Difference (cardio - cardio) =       0.0316\n",
      "1            Degrees of freedom =   30248.0000\n",
      "2                             t =       3.0002\n",
      "3         Two side test p value =       0.0027\n",
      "4        Difference < 0 p value =       0.9986\n",
      "5        Difference > 0 p value =       0.0014\n",
      "6                     Cohen's d =       0.0647\n",
      "7                     Hedge's g =       0.0647\n",
      "8                 Glass's delta =       0.0648\n",
      "9                             r =       0.0172\n"
     ]
    }
   ],
   "source": [
    "# курящие и некурящие страше 55\n",
    "\n",
    "descriptives, results = rp.ttest(data_older_55_nosmoke, data_older_55_smoke)\n",
    "print(descriptives)\n",
    "print('_____________________________')\n",
    "print(results)"
   ]
  },
  {
   "cell_type": "code",
   "execution_count": null,
   "metadata": {},
   "outputs": [],
   "source": []
  },
  {
   "cell_type": "markdown",
   "metadata": {},
   "source": [
    "**Алкоголь**"
   ]
  },
  {
   "cell_type": "markdown",
   "metadata": {},
   "source": [
    "Показатель alco - также субъективен и не описывает, есть ли у пациента серьезная зависимость или он умеренно пьет время от времени."
   ]
  },
  {
   "cell_type": "code",
   "execution_count": 33,
   "metadata": {},
   "outputs": [],
   "source": [
    "data_alco = data[data.alco == 1].cardio\n",
    "data_noalco = data[data.alco == 0].cardio\n",
    "\n",
    "data_older_40_alco = data_older_40[data_older_40.alco == 1].cardio\n",
    "data_older_40_noalco = data_older_40[data_older_40.alco == 0].cardio\n",
    "\n",
    "data_older_55_alco = data_older_55[data_older_55.alco == 1].cardio\n",
    "data_older_55_noalco = data_older_55[data_older_55.alco == 0].cardio"
   ]
  },
  {
   "cell_type": "markdown",
   "metadata": {},
   "source": [
    "Сначала сравним 2 группы: тех, кто пьет, и тех, кто не пьет:"
   ]
  },
  {
   "cell_type": "code",
   "execution_count": 34,
   "metadata": {},
   "outputs": [
    {
     "name": "stdout",
     "output_type": "stream",
     "text": [
      "   Variable        N      Mean        SD        SE  95% Conf.  Interval\n",
      "0    cardio   3647.0  0.476556  0.499519  0.008271   0.460339  0.492773\n",
      "1    cardio  64410.0  0.495172  0.499981  0.001970   0.491310  0.499033\n",
      "2  combined  68057.0  0.494174  0.499970  0.001916   0.490418  0.497930\n",
      "_____________________________\n",
      "                Independent t-test     results\n",
      "0  Difference (cardio - cardio) =      -0.0186\n",
      "1            Degrees of freedom =   68055.0000\n",
      "2                             t =      -2.1875\n",
      "3         Two side test p value =       0.0287\n",
      "4        Difference < 0 p value =       0.0144\n",
      "5        Difference > 0 p value =       0.9856\n",
      "6                     Cohen's d =      -0.0372\n",
      "7                     Hedge's g =      -0.0372\n",
      "8                 Glass's delta =      -0.0373\n",
      "9                             r =       0.0084\n"
     ]
    }
   ],
   "source": [
    "descriptives, results = rp.ttest(data_alco, data_noalco)\n",
    "print(descriptives)\n",
    "print('_____________________________')\n",
    "print(results)"
   ]
  },
  {
   "cell_type": "markdown",
   "metadata": {},
   "source": [
    "Хотя p-value = 0.028, группы статистически различны. Средние значения близки, у тех, кто пьет, даже чуть лучше."
   ]
  },
  {
   "cell_type": "markdown",
   "metadata": {},
   "source": [
    "Однако сравнения возрастных групп показывают другие результаты:"
   ]
  },
  {
   "cell_type": "code",
   "execution_count": 35,
   "metadata": {},
   "outputs": [
    {
     "name": "stdout",
     "output_type": "stream",
     "text": [
      "   Variable        N      Mean        SD        SE  95% Conf.  Interval\n",
      "0    cardio   3520.0  0.486648  0.499893  0.008426   0.470128  0.503167\n",
      "1    cardio  62792.0  0.501688  0.500001  0.001995   0.497777  0.505599\n",
      "2  combined  66312.0  0.500890  0.500003  0.001942   0.497084  0.504695\n",
      "_____________________________\n",
      "                Independent t-test     results\n",
      "0  Difference (cardio - cardio) =      -0.0150\n",
      "1            Degrees of freedom =   66310.0000\n",
      "2                             t =      -1.7367\n",
      "3         Two side test p value =       0.0824\n",
      "4        Difference < 0 p value =       0.0412\n",
      "5        Difference > 0 p value =       0.9588\n",
      "6                     Cohen's d =      -0.0301\n",
      "7                     Hedge's g =      -0.0301\n",
      "8                 Glass's delta =      -0.0301\n",
      "9                             r =       0.0067\n"
     ]
    }
   ],
   "source": [
    "# пациенты после 40\n",
    "\n",
    "descriptives, results = rp.ttest(data_older_40_alco, data_older_40_noalco)\n",
    "print(descriptives)\n",
    "print('_____________________________')\n",
    "print(results)"
   ]
  },
  {
   "cell_type": "code",
   "execution_count": 36,
   "metadata": {},
   "outputs": [
    {
     "name": "stdout",
     "output_type": "stream",
     "text": [
      "   Variable        N      Mean        SD        SE  95% Conf.  Interval\n",
      "0    cardio   1460.0  0.586301  0.492665  0.012894   0.561009  0.611593\n",
      "1    cardio  28790.0  0.605662  0.488717  0.002880   0.600016  0.611307\n",
      "2  combined  30250.0  0.604727  0.488917  0.002811   0.599217  0.610237\n",
      "_____________________________\n",
      "                Independent t-test     results\n",
      "0  Difference (cardio - cardio) =      -0.0194\n",
      "1            Degrees of freedom =   30248.0000\n",
      "2                             t =      -1.4761\n",
      "3         Two side test p value =       0.1399\n",
      "4        Difference < 0 p value =       0.0700\n",
      "5        Difference > 0 p value =       0.9300\n",
      "6                     Cohen's d =      -0.0396\n",
      "7                     Hedge's g =      -0.0396\n",
      "8                 Glass's delta =      -0.0393\n",
      "9                             r =       0.0085\n"
     ]
    }
   ],
   "source": [
    "# пациенты после 55\n",
    "\n",
    "descriptives, results = rp.ttest(data_older_55_alco, data_older_55_noalco)\n",
    "print(descriptives)\n",
    "print('_____________________________')\n",
    "print(results)"
   ]
  },
  {
   "cell_type": "markdown",
   "metadata": {},
   "source": [
    "P-value больше 0.05 в обоих сравнениях, среднее значение у \"пьющих\" даже ниже. \n",
    "\n",
    "Возможны, два варианта:\n",
    "* Употребление алкоголь и сердечно-сосудистые заболевания не так сильно связаны, как могло кажется.\n",
    "* Датасет не позволяет объективно и полно оченить эту связь. Мы знаем только пьет или не пьет пациент на данный момент, но  не знаем в каких количествах, пил ли раньше, есть ли у него зависимость."
   ]
  },
  {
   "cell_type": "code",
   "execution_count": null,
   "metadata": {},
   "outputs": [],
   "source": []
  },
  {
   "cell_type": "markdown",
   "metadata": {},
   "source": [
    "**Вес**"
   ]
  },
  {
   "cell_type": "markdown",
   "metadata": {},
   "source": [
    "RandomForest показывает влияние веса и роста на сердечно-сосудистые заболевания.\n",
    "\n",
    "Чтобы оценить влияние, воспользуемся метрикой \"Индекс массы тела\", которая рассчитывается по формуле: BMI = $\\frac{m}{h^{2}}$"
   ]
  },
  {
   "cell_type": "code",
   "execution_count": 37,
   "metadata": {},
   "outputs": [],
   "source": [
    "def count_BMI(row):\n",
    "    BMI = round(row.weight / ((row.height/100) ** 2), 0)\n",
    "    return BMI   "
   ]
  },
  {
   "cell_type": "code",
   "execution_count": 38,
   "metadata": {},
   "outputs": [],
   "source": [
    "data['BMI'] = data.apply(count_BMI, axis=1)"
   ]
  },
  {
   "cell_type": "code",
   "execution_count": 39,
   "metadata": {},
   "outputs": [
    {
     "data": {
      "image/png": "[encoded data removed]",
      "text/plain": [
       "<Figure size 720x432 with 1 Axes>"
      ]
     },
     "metadata": {
      "needs_background": "light"
     },
     "output_type": "display_data"
    }
   ],
   "source": [
    "rcParams['figure.figsize'] = 10,6\n",
    "sns.distplot(\n",
    "    data.BMI, bins=50, kde=True,\n",
    "    hist_kws={'color':'#052A6E', 'edgecolor':'k', 'linewidth':'1'}    \n",
    ")\n",
    "plt.show()"
   ]
  },
  {
   "cell_type": "code",
   "execution_count": 40,
   "metadata": {},
   "outputs": [],
   "source": [
    "underweight = data[data.BMI < 18] # ниже нормы \n",
    "normal_weight = data[ (data.BMI >= 18) & (data.BMI < 25)] # норма \n",
    "overweight = data[data.BMI > 25] # выше нормы\n",
    "overweight_2 = data[data.BMI > 35] # ожирение"
   ]
  },
  {
   "cell_type": "markdown",
   "metadata": {},
   "source": [
    "Сравним выборки пациентов с нормальным весом и с избыточным:"
   ]
  },
  {
   "cell_type": "code",
   "execution_count": 41,
   "metadata": {},
   "outputs": [
    {
     "name": "stdout",
     "output_type": "stream",
     "text": [
      "   Variable        N      Mean        SD        SE  95% Conf.  Interval\n",
      "0    cardio  21979.0  0.387643  0.487223  0.003286   0.381201  0.394084\n",
      "1    cardio  39091.0  0.562406  0.496097  0.002509   0.557488  0.567324\n",
      "2  combined  61070.0  0.499509  0.500004  0.002023   0.495543  0.503474\n",
      "_____________________________\n",
      "                Independent t-test     results\n",
      "0  Difference (cardio - cardio) =      -0.1748\n",
      "1            Degrees of freedom =   61068.0000\n",
      "2                             t =     -42.0533\n",
      "3         Two side test p value =       0.0000\n",
      "4        Difference < 0 p value =       0.0000\n",
      "5        Difference > 0 p value =       1.0000\n",
      "6                     Cohen's d =      -0.3545\n",
      "7                     Hedge's g =      -0.3545\n",
      "8                 Glass's delta =      -0.3587\n",
      "9                             r =       0.1678\n"
     ]
    }
   ],
   "source": [
    "# пациенты с нормальным и с избыточным весом\n",
    "\n",
    "descriptives, results = rp.ttest(normal_weight.cardio, overweight.cardio)\n",
    "print(descriptives)\n",
    "print('_____________________________')\n",
    "print(results)"
   ]
  },
  {
   "cell_type": "markdown",
   "metadata": {},
   "source": [
    "P-value меньше 0.05, среднее пациентов с нормальным весом значительно меньше."
   ]
  },
  {
   "cell_type": "markdown",
   "metadata": {},
   "source": [
    "Сравним выборки по всем пациентам и пациентам с избыточным весом и ожирением:"
   ]
  },
  {
   "cell_type": "code",
   "execution_count": 42,
   "metadata": {},
   "outputs": [
    {
     "name": "stdout",
     "output_type": "stream",
     "text": [
      "   Variable         N      Mean        SD        SE  95% Conf.  Interval\n",
      "0    cardio   68057.0  0.494174  0.499970  0.001916   0.490418  0.497930\n",
      "1    cardio   39091.0  0.562406  0.496097  0.002509   0.557488  0.567324\n",
      "2  combined  107148.0  0.519067  0.499639  0.001526   0.516075  0.522059\n",
      "_____________________________\n",
      "                Independent t-test      results\n",
      "0  Difference (cardio - cardio) =       -0.0682\n",
      "1            Degrees of freedom =   107146.0000\n",
      "2                             t =      -21.5651\n",
      "3         Two side test p value =        0.0000\n",
      "4        Difference < 0 p value =        0.0000\n",
      "5        Difference > 0 p value =        1.0000\n",
      "6                     Cohen's d =       -0.1369\n",
      "7                     Hedge's g =       -0.1369\n",
      "8                 Glass's delta =       -0.1365\n",
      "9                             r =        0.0657\n"
     ]
    }
   ],
   "source": [
    "# все пациенты и пациенты с избыточным весом\n",
    "\n",
    "descriptives, results = rp.ttest(data.cardio, overweight.cardio)\n",
    "print(descriptives)\n",
    "print('_____________________________')\n",
    "print(results)"
   ]
  },
  {
   "cell_type": "code",
   "execution_count": 43,
   "metadata": {},
   "outputs": [
    {
     "data": {
      "text/plain": [
       "<matplotlib.axes._subplots.AxesSubplot at 0x1a5c5e45448>"
      ]
     },
     "execution_count": 43,
     "metadata": {},
     "output_type": "execute_result"
    },
    {
     "data": {
      "image/png": "[encoded data removed]",
      "text/plain": [
       "<Figure size 720x432 with 1 Axes>"
      ]
     },
     "metadata": {
      "needs_background": "light"
     },
     "output_type": "display_data"
    }
   ],
   "source": [
    "sns.countplot(x='cardio', data=overweight)"
   ]
  },
  {
   "cell_type": "code",
   "execution_count": 44,
   "metadata": {},
   "outputs": [
    {
     "name": "stdout",
     "output_type": "stream",
     "text": [
      "   Variable        N      Mean        SD        SE  95% Conf.  Interval\n",
      "0    cardio  68057.0  0.494174  0.499970  0.001916   0.490418  0.497930\n",
      "1    cardio   5074.0  0.678754  0.467001  0.006556   0.665902  0.691607\n",
      "2  combined  73131.0  0.506981  0.499955  0.001849   0.503357  0.510604\n",
      "_____________________________\n",
      "                Independent t-test     results\n",
      "0  Difference (cardio - cardio) =      -0.1846\n",
      "1            Degrees of freedom =   73129.0000\n",
      "2                             t =     -25.4819\n",
      "3         Two side test p value =       0.0000\n",
      "4        Difference < 0 p value =       0.0000\n",
      "5        Difference > 0 p value =       1.0000\n",
      "6                     Cohen's d =      -0.3708\n",
      "7                     Hedge's g =      -0.3708\n",
      "8                 Glass's delta =      -0.3692\n",
      "9                             r =       0.0938\n"
     ]
    }
   ],
   "source": [
    "# все пациенты и пациенты с ожирением\n",
    "\n",
    "descriptives, results = rp.ttest(data.cardio, overweight_2.cardio)\n",
    "print(descriptives)\n",
    "print('_____________________________')\n",
    "print(results)"
   ]
  },
  {
   "cell_type": "code",
   "execution_count": 45,
   "metadata": {},
   "outputs": [
    {
     "data": {
      "text/plain": [
       "<matplotlib.axes._subplots.AxesSubplot at 0x1a5c5e8d608>"
      ]
     },
     "execution_count": 45,
     "metadata": {},
     "output_type": "execute_result"
    },
    {
     "data": {
      "image/png": "[encoded data removed]",
      "text/plain": [
       "<Figure size 720x432 with 1 Axes>"
      ]
     },
     "metadata": {
      "needs_background": "light"
     },
     "output_type": "display_data"
    }
   ],
   "source": [
    "sns.countplot(x='cardio', data=overweight_2)"
   ]
  },
  {
   "cell_type": "markdown",
   "metadata": {},
   "source": [
    "На последнем примере особенно очевидна связь избыточного веса и сердечно-сосудистых заболеваний."
   ]
  },
  {
   "cell_type": "code",
   "execution_count": null,
   "metadata": {},
   "outputs": [],
   "source": []
  },
  {
   "cell_type": "markdown",
   "metadata": {},
   "source": [
    "## Выводы ##"
   ]
  },
  {
   "cell_type": "markdown",
   "metadata": {},
   "source": [
    "1) Чем старше человек, тем выше риск заболеваний сердца.\n",
    "\n",
    "2) Избыточный вес и, особенно, ожирение значительно повышают риск заболеваний\n",
    "\n",
    "3) Датасет не позволяет объективно оценить связь курение и употребления алкоголя с сердечно-сосудистыми болезнями."
   ]
  },
  {
   "cell_type": "code",
   "execution_count": null,
   "metadata": {},
   "outputs": [],
   "source": []
  }
 ],
 "metadata": {
  "kernelspec": {
   "display_name": "Python 3",
   "language": "python",
   "name": "python3"
  },
  "language_info": {
   "codemirror_mode": {
    "name": "ipython",
    "version": 3
   },
   "file_extension": ".py",
   "mimetype": "text/x-python",
   "name": "python",
   "nbconvert_exporter": "python",
   "pygments_lexer": "ipython3",
   "version": "3.7.4"
  }
 },
 "nbformat": 4,
 "nbformat_minor": 4
}
